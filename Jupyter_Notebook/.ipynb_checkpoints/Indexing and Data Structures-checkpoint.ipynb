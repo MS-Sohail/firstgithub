{
 "cells": [
  {
   "cell_type": "markdown",
   "id": "9d3374e7",
   "metadata": {},
   "source": [
    "# - Indexing"
   ]
  },
  {
   "cell_type": "code",
   "execution_count": 1,
   "id": "c043f804",
   "metadata": {},
   "outputs": [
    {
     "data": {
      "text/plain": [
       "'Samosa Pakora'"
      ]
     },
     "execution_count": 1,
     "metadata": {},
     "output_type": "execute_result"
    }
   ],
   "source": [
    "# make a string\n",
    "\n",
    "a = \"Samosa Pakora\"\n",
    "a"
   ]
  },
  {
   "cell_type": "code",
   "execution_count": 2,
   "id": "2b5f86f7",
   "metadata": {},
   "outputs": [
    {
     "data": {
      "text/plain": [
       "'Samosa Pakora'"
      ]
     },
     "execution_count": 2,
     "metadata": {},
     "output_type": "execute_result"
    }
   ],
   "source": [
    "a"
   ]
  },
  {
   "cell_type": "code",
   "execution_count": 3,
   "id": "d79f9aab",
   "metadata": {
    "scrolled": true
   },
   "outputs": [
    {
     "data": {
      "text/plain": [
       "'S'"
      ]
     },
     "execution_count": 3,
     "metadata": {},
     "output_type": "execute_result"
    }
   ],
   "source": [
    "a[0]"
   ]
  },
  {
   "cell_type": "code",
   "execution_count": 4,
   "id": "d1f57410",
   "metadata": {},
   "outputs": [
    {
     "data": {
      "text/plain": [
       "'Samosa'"
      ]
     },
     "execution_count": 4,
     "metadata": {},
     "output_type": "execute_result"
    }
   ],
   "source": [
    "a[0:6]"
   ]
  },
  {
   "cell_type": "code",
   "execution_count": 5,
   "id": "780e76c5",
   "metadata": {
    "scrolled": true
   },
   "outputs": [
    {
     "data": {
      "text/plain": [
       "'Samosa Pakora'"
      ]
     },
     "execution_count": 5,
     "metadata": {},
     "output_type": "execute_result"
    }
   ],
   "source": [
    "a[0:13]"
   ]
  },
  {
   "cell_type": "code",
   "execution_count": 6,
   "id": "05ef667c",
   "metadata": {},
   "outputs": [
    {
     "data": {
      "text/plain": [
       "13"
      ]
     },
     "execution_count": 6,
     "metadata": {},
     "output_type": "execute_result"
    }
   ],
   "source": [
    "len(a)"
   ]
  },
  {
   "cell_type": "code",
   "execution_count": 7,
   "id": "0680b3f7",
   "metadata": {},
   "outputs": [
    {
     "data": {
      "text/plain": [
       "'a'"
      ]
     },
     "execution_count": 7,
     "metadata": {},
     "output_type": "execute_result"
    }
   ],
   "source": [
    "a[-1]"
   ]
  },
  {
   "cell_type": "code",
   "execution_count": 8,
   "id": "1af1c4d9",
   "metadata": {},
   "outputs": [
    {
     "data": {
      "text/plain": [
       "'S'"
      ]
     },
     "execution_count": 8,
     "metadata": {},
     "output_type": "execute_result"
    }
   ],
   "source": [
    "a[-13]"
   ]
  },
  {
   "cell_type": "code",
   "execution_count": 10,
   "id": "a6d2c92f",
   "metadata": {},
   "outputs": [
    {
     "data": {
      "text/plain": [
       "'Samosa Pakor'"
      ]
     },
     "execution_count": 10,
     "metadata": {},
     "output_type": "execute_result"
    }
   ],
   "source": [
    "a[-13:-1]"
   ]
  },
  {
   "cell_type": "code",
   "execution_count": 11,
   "id": "d6c129cd",
   "metadata": {},
   "outputs": [
    {
     "data": {
      "text/plain": [
       "'Samosa Pakora'"
      ]
     },
     "execution_count": 11,
     "metadata": {},
     "output_type": "execute_result"
    }
   ],
   "source": [
    "a[-13:13]"
   ]
  },
  {
   "cell_type": "code",
   "execution_count": 16,
   "id": "019e6a30",
   "metadata": {},
   "outputs": [
    {
     "data": {
      "text/plain": [
       "'biryani'"
      ]
     },
     "execution_count": 16,
     "metadata": {},
     "output_type": "execute_result"
    }
   ],
   "source": [
    "food = \"biryani\"\n",
    "food"
   ]
  },
  {
   "cell_type": "markdown",
   "id": "7aa911cc",
   "metadata": {},
   "source": [
    "## String Methods"
   ]
  },
  {
   "cell_type": "code",
   "execution_count": 17,
   "id": "900c5a6c",
   "metadata": {},
   "outputs": [
    {
     "data": {
      "text/plain": [
       "'biryani'"
      ]
     },
     "execution_count": 17,
     "metadata": {},
     "output_type": "execute_result"
    }
   ],
   "source": [
    "food"
   ]
  },
  {
   "cell_type": "code",
   "execution_count": 15,
   "id": "35204f15",
   "metadata": {},
   "outputs": [
    {
     "data": {
      "text/plain": [
       "7"
      ]
     },
     "execution_count": 15,
     "metadata": {},
     "output_type": "execute_result"
    }
   ],
   "source": [
    "len(food)"
   ]
  },
  {
   "cell_type": "code",
   "execution_count": 18,
   "id": "21fd62cb",
   "metadata": {},
   "outputs": [
    {
     "data": {
      "text/plain": [
       "'Biryani'"
      ]
     },
     "execution_count": 18,
     "metadata": {},
     "output_type": "execute_result"
    }
   ],
   "source": [
    "food.capitalize()"
   ]
  },
  {
   "cell_type": "code",
   "execution_count": 19,
   "id": "fa9a2140",
   "metadata": {},
   "outputs": [
    {
     "data": {
      "text/plain": [
       "'BIRYANI'"
      ]
     },
     "execution_count": 19,
     "metadata": {},
     "output_type": "execute_result"
    }
   ],
   "source": [
    "food.upper()"
   ]
  },
  {
   "cell_type": "code",
   "execution_count": 20,
   "id": "6866b806",
   "metadata": {},
   "outputs": [
    {
     "data": {
      "text/plain": [
       "'biryani'"
      ]
     },
     "execution_count": 20,
     "metadata": {},
     "output_type": "execute_result"
    }
   ],
   "source": [
    "food.lower()"
   ]
  },
  {
   "cell_type": "code",
   "execution_count": 21,
   "id": "6779cf0a",
   "metadata": {},
   "outputs": [
    {
     "data": {
      "text/plain": [
       "'Shiryani'"
      ]
     },
     "execution_count": 21,
     "metadata": {},
     "output_type": "execute_result"
    }
   ],
   "source": [
    "food.replace(\"b\", \"Sh\")"
   ]
  },
  {
   "cell_type": "code",
   "execution_count": 23,
   "id": "d23902cc",
   "metadata": {},
   "outputs": [
    {
     "data": {
      "text/plain": [
       "'Aaliyar Ahmed with Muhammad Sohail'"
      ]
     },
     "execution_count": 23,
     "metadata": {},
     "output_type": "execute_result"
    }
   ],
   "source": [
    "# counting a specific alphabet in a string\n",
    "\n",
    "name = \"Aaliyar Ahmed with Muhammad Sohail\"\n",
    "name"
   ]
  },
  {
   "cell_type": "code",
   "execution_count": 24,
   "id": "c1580d31",
   "metadata": {},
   "outputs": [
    {
     "data": {
      "text/plain": [
       "5"
      ]
     },
     "execution_count": 24,
     "metadata": {},
     "output_type": "execute_result"
    }
   ],
   "source": [
    "name.count(\"a\")"
   ]
  },
  {
   "cell_type": "code",
   "execution_count": 25,
   "id": "04004f07",
   "metadata": {},
   "outputs": [
    {
     "data": {
      "text/plain": [
       "1"
      ]
     },
     "execution_count": 25,
     "metadata": {},
     "output_type": "execute_result"
    }
   ],
   "source": [
    "name.count(\"Sohail\")"
   ]
  },
  {
   "cell_type": "code",
   "execution_count": 26,
   "id": "a6e4d415",
   "metadata": {},
   "outputs": [
    {
     "data": {
      "text/plain": [
       "34"
      ]
     },
     "execution_count": 26,
     "metadata": {},
     "output_type": "execute_result"
    }
   ],
   "source": [
    "len(name)"
   ]
  },
  {
   "cell_type": "markdown",
   "id": "ca80b966",
   "metadata": {},
   "source": [
    "### - Finding an index number in string"
   ]
  },
  {
   "cell_type": "code",
   "execution_count": 27,
   "id": "3dbc6473",
   "metadata": {},
   "outputs": [
    {
     "data": {
      "text/plain": [
       "'Aaliyar Ahmed with Muhammad Sohail'"
      ]
     },
     "execution_count": 27,
     "metadata": {},
     "output_type": "execute_result"
    }
   ],
   "source": [
    "name = \"Aaliyar Ahmed with Muhammad Sohail\"\n",
    "name"
   ]
  },
  {
   "cell_type": "code",
   "execution_count": 28,
   "id": "eba63312",
   "metadata": {},
   "outputs": [
    {
     "data": {
      "text/plain": [
       "14"
      ]
     },
     "execution_count": 28,
     "metadata": {},
     "output_type": "execute_result"
    }
   ],
   "source": [
    "name.find(\"w\")"
   ]
  },
  {
   "cell_type": "code",
   "execution_count": 29,
   "id": "fcbe3a41",
   "metadata": {},
   "outputs": [
    {
     "data": {
      "text/plain": [
       "'I love samosa, pakora, raita, biryani and karahi'"
      ]
     },
     "execution_count": 29,
     "metadata": {},
     "output_type": "execute_result"
    }
   ],
   "source": [
    "### - how to split a string\n",
    "\n",
    "food = \"I love samosa, pakora, raita, biryani and karahi\"\n",
    "food"
   ]
  },
  {
   "cell_type": "code",
   "execution_count": 30,
   "id": "547c1f68",
   "metadata": {},
   "outputs": [
    {
     "data": {
      "text/plain": [
       "['I love samosa', ' pakora', ' raita', ' biryani and karahi']"
      ]
     },
     "execution_count": 30,
     "metadata": {},
     "output_type": "execute_result"
    }
   ],
   "source": [
    "food.split(\",\")"
   ]
  },
  {
   "cell_type": "markdown",
   "id": "9721c4ef",
   "metadata": {},
   "source": [
    "## Basic Data Structures in Python\n",
    "\n",
    "### 1- Tuple is a collection which is ordered and changeable. Allows duplicate members.\n",
    "### 2- List is a collection which is ordered and unchangeable. Allows duplicate members. \n",
    "### 3- Dictionaries is a collection which is ordered and changeable. No duplicate members.\n",
    "### 4- Set is a collection which is unordered, unchangeable, and unindexed. No duplicate members."
   ]
  },
  {
   "cell_type": "markdown",
   "id": "820937c5",
   "metadata": {},
   "source": [
    "## 1- Tuple\n",
    "\n",
    "- ordered collection of elements\n",
    "- enclosed in () round braces / paranthesis\n",
    "- different kind of elements can be stored\n",
    "- Duplicate elements are allowed because they are indexed\n",
    "- once elements are stored you can not change them (unmutable), can't add or remove elements"
   ]
  },
  {
   "cell_type": "code",
   "execution_count": 23,
   "id": "11893210",
   "metadata": {},
   "outputs": [
    {
     "data": {
      "text/plain": [
       "('aaliyar',)"
      ]
     },
     "execution_count": 23,
     "metadata": {},
     "output_type": "execute_result"
    }
   ],
   "source": [
    "tupp = (\"aaliyar\",)\n",
    "tupp"
   ]
  },
  {
   "cell_type": "code",
   "execution_count": 31,
   "id": "a6cf16c3",
   "metadata": {},
   "outputs": [
    {
     "data": {
      "text/plain": [
       "(1, 'Python', True, 2.5)"
      ]
     },
     "execution_count": 31,
     "metadata": {},
     "output_type": "execute_result"
    }
   ],
   "source": [
    "tup1 = (1, \"Python\", True, 2.5)\n",
    "tup1"
   ]
  },
  {
   "cell_type": "code",
   "execution_count": 32,
   "id": "0bfa7960",
   "metadata": {},
   "outputs": [
    {
     "data": {
      "text/plain": [
       "tuple"
      ]
     },
     "execution_count": 32,
     "metadata": {},
     "output_type": "execute_result"
    }
   ],
   "source": [
    "# type of tuple\n",
    "\n",
    "type(tup1)"
   ]
  },
  {
   "cell_type": "markdown",
   "id": "505f45ff",
   "metadata": {},
   "source": [
    "### Indexing in tuple"
   ]
  },
  {
   "cell_type": "code",
   "execution_count": 33,
   "id": "e387bfbb",
   "metadata": {},
   "outputs": [
    {
     "data": {
      "text/plain": [
       "1"
      ]
     },
     "execution_count": 33,
     "metadata": {},
     "output_type": "execute_result"
    }
   ],
   "source": [
    "tup1[0]"
   ]
  },
  {
   "cell_type": "code",
   "execution_count": 34,
   "id": "f7b8ed08",
   "metadata": {},
   "outputs": [
    {
     "data": {
      "text/plain": [
       "(1, 'Python', True)"
      ]
     },
     "execution_count": 34,
     "metadata": {},
     "output_type": "execute_result"
    }
   ],
   "source": [
    "tup1[0:3]"
   ]
  },
  {
   "cell_type": "code",
   "execution_count": 35,
   "id": "8ffd1e0f",
   "metadata": {},
   "outputs": [
    {
     "data": {
      "text/plain": [
       "(1, 'Python', True, 2.5)"
      ]
     },
     "execution_count": 35,
     "metadata": {},
     "output_type": "execute_result"
    }
   ],
   "source": [
    "tup1[0:4]"
   ]
  },
  {
   "cell_type": "code",
   "execution_count": 36,
   "id": "7a982b2f",
   "metadata": {},
   "outputs": [
    {
     "data": {
      "text/plain": [
       "4"
      ]
     },
     "execution_count": 36,
     "metadata": {},
     "output_type": "execute_result"
    }
   ],
   "source": [
    "# count of elements in tuple\n",
    "len(tup1)"
   ]
  },
  {
   "cell_type": "code",
   "execution_count": 25,
   "id": "9e313403",
   "metadata": {},
   "outputs": [
    {
     "data": {
      "text/plain": [
       "(2, 'Aaliyar', 3.5, False)"
      ]
     },
     "execution_count": 25,
     "metadata": {},
     "output_type": "execute_result"
    }
   ],
   "source": [
    "tup2 = (2, \"Aaliyar\", 3.5, False)\n",
    "tup2"
   ]
  },
  {
   "cell_type": "code",
   "execution_count": 27,
   "id": "a504f38a",
   "metadata": {},
   "outputs": [
    {
     "name": "stdout",
     "output_type": "stream",
     "text": [
      "Yes\n"
     ]
    }
   ],
   "source": [
    "# to find a specific element use in keyword\n",
    "if \"Aaliyar\" in tup2:\n",
    "    print(\"Yes\")"
   ]
  },
  {
   "cell_type": "code",
   "execution_count": 39,
   "id": "97a50bb1",
   "metadata": {},
   "outputs": [
    {
     "data": {
      "text/plain": [
       "(1, 'Python', True, 2.5, 2, 'Aaliyar', 3.5, False)"
      ]
     },
     "execution_count": 39,
     "metadata": {},
     "output_type": "execute_result"
    }
   ],
   "source": [
    "# concatenate\n",
    "tup1 + tup2"
   ]
  },
  {
   "cell_type": "code",
   "execution_count": 40,
   "id": "00c21409",
   "metadata": {},
   "outputs": [
    {
     "data": {
      "text/plain": [
       "(1, 'Python', True, 2.5, 1, 'Python', True, 2.5, 2, 'Aaliyar', 3.5, False)"
      ]
     },
     "execution_count": 40,
     "metadata": {},
     "output_type": "execute_result"
    }
   ],
   "source": [
    "tup1*2 + tup2"
   ]
  },
  {
   "cell_type": "code",
   "execution_count": 42,
   "id": "c72b6271",
   "metadata": {},
   "outputs": [],
   "source": [
    "tup3 = (20, 30, 50, 60, 79, 65)"
   ]
  },
  {
   "cell_type": "code",
   "execution_count": 43,
   "id": "2254cdce",
   "metadata": {},
   "outputs": [
    {
     "data": {
      "text/plain": [
       "20"
      ]
     },
     "execution_count": 43,
     "metadata": {},
     "output_type": "execute_result"
    }
   ],
   "source": [
    "# minimum\n",
    "min(tup3)"
   ]
  },
  {
   "cell_type": "code",
   "execution_count": 44,
   "id": "66561231",
   "metadata": {},
   "outputs": [
    {
     "data": {
      "text/plain": [
       "79"
      ]
     },
     "execution_count": 44,
     "metadata": {},
     "output_type": "execute_result"
    }
   ],
   "source": [
    "# maximum\n",
    "max(tup3)"
   ]
  },
  {
   "cell_type": "code",
   "execution_count": 47,
   "id": "2bb3e5d0",
   "metadata": {},
   "outputs": [
    {
     "data": {
      "text/plain": [
       "(20, 30, 50, 60, 79, 65, 20, 30, 50, 60, 79, 65, 20, 30, 50, 60, 79, 65)"
      ]
     },
     "execution_count": 47,
     "metadata": {},
     "output_type": "execute_result"
    }
   ],
   "source": [
    "tup3*3"
   ]
  },
  {
   "cell_type": "code",
   "execution_count": 29,
   "id": "328ec4e2",
   "metadata": {},
   "outputs": [
    {
     "data": {
      "text/plain": [
       "'Apple'"
      ]
     },
     "execution_count": 29,
     "metadata": {},
     "output_type": "execute_result"
    }
   ],
   "source": [
    "thistuple = (\"Apple\")\n",
    "thistuple"
   ]
  },
  {
   "cell_type": "code",
   "execution_count": 31,
   "id": "bda98f29",
   "metadata": {},
   "outputs": [
    {
     "ename": "NameError",
     "evalue": "name 'thistuple' is not defined",
     "output_type": "error",
     "traceback": [
      "\u001b[1;31m---------------------------------------------------------------------------\u001b[0m",
      "\u001b[1;31mNameError\u001b[0m                                 Traceback (most recent call last)",
      "\u001b[1;32m<ipython-input-31-ec62e32f7d54>\u001b[0m in \u001b[0;36m<module>\u001b[1;34m\u001b[0m\n\u001b[0;32m      1\u001b[0m \u001b[1;31m# The del keyword can delete the tuple completely\u001b[0m\u001b[1;33m\u001b[0m\u001b[1;33m\u001b[0m\u001b[1;33m\u001b[0m\u001b[0m\n\u001b[1;32m----> 2\u001b[1;33m \u001b[1;32mdel\u001b[0m \u001b[0mthistuple\u001b[0m\u001b[1;33m\u001b[0m\u001b[1;33m\u001b[0m\u001b[0m\n\u001b[0m\u001b[0;32m      3\u001b[0m \u001b[0mthistuple\u001b[0m\u001b[1;33m\u001b[0m\u001b[1;33m\u001b[0m\u001b[0m\n",
      "\u001b[1;31mNameError\u001b[0m: name 'thistuple' is not defined"
     ]
    }
   ],
   "source": [
    "# The del keyword can delete the tuple completely\n",
    "del thistuple\n",
    "thistuple"
   ]
  },
  {
   "cell_type": "code",
   "execution_count": 38,
   "id": "4118c214",
   "metadata": {},
   "outputs": [
    {
     "data": {
      "text/plain": [
       "('Apple', 'Kiwi', 'Cherry')"
      ]
     },
     "execution_count": 38,
     "metadata": {},
     "output_type": "execute_result"
    }
   ],
   "source": [
    "# Convert the tuple into a list to be able to change it\n",
    "\n",
    "x = (\"Apple\", \"Banana\", \"Cherry\")\n",
    "y = list(x)\n",
    "y\n",
    "y[1] = \"Kiwi\"\n",
    "y\n",
    "x = tuple(y)\n",
    "x"
   ]
  },
  {
   "cell_type": "code",
   "execution_count": 2,
   "id": "3c9dff75",
   "metadata": {},
   "outputs": [
    {
     "name": "stdout",
     "output_type": "stream",
     "text": [
      "Aaliyar\n",
      "Ahmed\n",
      "Sohail\n"
     ]
    }
   ],
   "source": [
    "# You can loop through the tuple items by using a for loop.\n",
    "\n",
    "tup4 = (\"Aaliyar\", \"Ahmed\", \"Sohail\")\n",
    "for B in tup4:\n",
    "    print(B)\n"
   ]
  },
  {
   "cell_type": "code",
   "execution_count": 3,
   "id": "3422d84a",
   "metadata": {},
   "outputs": [
    {
     "data": {
      "text/plain": [
       "('Aaliyar', 'Maria', 143)"
      ]
     },
     "execution_count": 3,
     "metadata": {},
     "output_type": "execute_result"
    }
   ],
   "source": [
    "# tuple can be created using a tuple constructor()\n",
    "\n",
    "tup7 = tuple((\"Aaliyar\", \"Maria\", 143))\n",
    "tup7"
   ]
  },
  {
   "cell_type": "markdown",
   "id": "2b9d59d4",
   "metadata": {},
   "source": [
    "### Tuple built-in methods\n",
    "1. count() Returns the number of times a specified value occurs in a tuple\n",
    "2. index() Searches the tuple for a specified value and returns the position of where it was found"
   ]
  },
  {
   "cell_type": "code",
   "execution_count": 42,
   "id": "f5acaf9d",
   "metadata": {},
   "outputs": [
    {
     "data": {
      "text/plain": [
       "('Aaliyar', 21, 21, True)"
      ]
     },
     "execution_count": 42,
     "metadata": {},
     "output_type": "execute_result"
    }
   ],
   "source": [
    "tup5 = (\"Aaliyar\", 21, 21, True)\n",
    "tup5"
   ]
  },
  {
   "cell_type": "code",
   "execution_count": 48,
   "id": "003983c5",
   "metadata": {},
   "outputs": [
    {
     "data": {
      "text/plain": [
       "2"
      ]
     },
     "execution_count": 48,
     "metadata": {},
     "output_type": "execute_result"
    }
   ],
   "source": [
    "tup5.count(21)"
   ]
  },
  {
   "cell_type": "code",
   "execution_count": 51,
   "id": "c3715f8e",
   "metadata": {},
   "outputs": [
    {
     "data": {
      "text/plain": [
       "3"
      ]
     },
     "execution_count": 51,
     "metadata": {},
     "output_type": "execute_result"
    }
   ],
   "source": [
    "tup5.index(True)"
   ]
  },
  {
   "cell_type": "markdown",
   "id": "859ad53b",
   "metadata": {},
   "source": [
    "# 2- LIST"
   ]
  },
  {
   "cell_type": "markdown",
   "id": "bd9ee1ba",
   "metadata": {},
   "source": [
    "- ordered collection of elements\n",
    "- enclosed in [ ] square braces/brackets\n",
    "- Mutateable, you can change the values\n",
    "- Allow duplicate values"
   ]
  },
  {
   "cell_type": "markdown",
   "id": "f143806d",
   "metadata": {},
   "source": [
    "- Method\tDescription\n",
    "\n",
    "- append()\tAdds an element at the end of the list\n",
    "- clear()\tRemoves all the elements from the list\n",
    "- copy()\tReturns a copy of the list\n",
    "- count()\tReturns the number of elements with the specified value\n",
    "- extend()\tAdd the elements of a list (or any iterable), to the end of the current list\n",
    "- index()\tReturns the index of the first element with the specified value\n",
    "- insert()\tAdds an element at the specified position\n",
    "- pop()\tRemoves the element at the specified position\n",
    "- remove()\tRemoves the item with the specified value\n",
    "- reverse()\tReverses the order of the list\n",
    "- sort()\tSorts the list"
   ]
  },
  {
   "cell_type": "code",
   "execution_count": 49,
   "id": "e4d32af5",
   "metadata": {},
   "outputs": [
    {
     "data": {
      "text/plain": [
       "[2, 'AaliyarAhmed', False]"
      ]
     },
     "execution_count": 49,
     "metadata": {},
     "output_type": "execute_result"
    }
   ],
   "source": [
    "list1 = [2, \"AaliyarAhmed\", False]\n",
    "list1"
   ]
  },
  {
   "cell_type": "code",
   "execution_count": 50,
   "id": "928efffb",
   "metadata": {},
   "outputs": [
    {
     "data": {
      "text/plain": [
       "list"
      ]
     },
     "execution_count": 50,
     "metadata": {},
     "output_type": "execute_result"
    }
   ],
   "source": [
    "type(list1)"
   ]
  },
  {
   "cell_type": "code",
   "execution_count": 51,
   "id": "c7d90e4a",
   "metadata": {},
   "outputs": [
    {
     "data": {
      "text/plain": [
       "3"
      ]
     },
     "execution_count": 51,
     "metadata": {},
     "output_type": "execute_result"
    }
   ],
   "source": [
    "len(list1)"
   ]
  },
  {
   "cell_type": "code",
   "execution_count": 52,
   "id": "ab44e28b",
   "metadata": {},
   "outputs": [
    {
     "data": {
      "text/plain": [
       "False"
      ]
     },
     "execution_count": 52,
     "metadata": {},
     "output_type": "execute_result"
    }
   ],
   "source": [
    "list1[2]"
   ]
  },
  {
   "cell_type": "code",
   "execution_count": 53,
   "id": "6566b9b3",
   "metadata": {},
   "outputs": [
    {
     "data": {
      "text/plain": [
       "[3, 5, 'Sohail', 'Aaliyar', 478, 53.2, False]"
      ]
     },
     "execution_count": 53,
     "metadata": {},
     "output_type": "execute_result"
    }
   ],
   "source": [
    "list2 = [3, 5, \"Sohail\", \"Aaliyar\", 478, 53.2, False]\n",
    "list2"
   ]
  },
  {
   "cell_type": "code",
   "execution_count": 54,
   "id": "62d36a89",
   "metadata": {},
   "outputs": [
    {
     "data": {
      "text/plain": [
       "[2, 'AaliyarAhmed', False, 3, 5, 'Sohail', 'Aaliyar', 478, 53.2, False]"
      ]
     },
     "execution_count": 54,
     "metadata": {},
     "output_type": "execute_result"
    }
   ],
   "source": [
    "list1 + list2"
   ]
  },
  {
   "cell_type": "code",
   "execution_count": 55,
   "id": "79b6d529",
   "metadata": {},
   "outputs": [
    {
     "data": {
      "text/plain": [
       "[2, 'AaliyarAhmed', False, 2, 'AaliyarAhmed', False]"
      ]
     },
     "execution_count": 55,
     "metadata": {},
     "output_type": "execute_result"
    }
   ],
   "source": [
    "list1 * 2"
   ]
  },
  {
   "cell_type": "code",
   "execution_count": 58,
   "id": "9d5e65d2",
   "metadata": {},
   "outputs": [
    {
     "data": {
      "text/plain": [
       "[2, 'AaliyarAhmed', False]"
      ]
     },
     "execution_count": 58,
     "metadata": {},
     "output_type": "execute_result"
    }
   ],
   "source": [
    "list1.reverse()\n",
    "list1"
   ]
  },
  {
   "cell_type": "code",
   "execution_count": 59,
   "id": "82bfb24d",
   "metadata": {},
   "outputs": [
    {
     "data": {
      "text/plain": [
       "[False, 53.2, 478, 'Aaliyar', 'Sohail', 5, 3]"
      ]
     },
     "execution_count": 59,
     "metadata": {},
     "output_type": "execute_result"
    }
   ],
   "source": [
    "list2.reverse()\n",
    "list2"
   ]
  },
  {
   "cell_type": "code",
   "execution_count": 60,
   "id": "f2419813",
   "metadata": {},
   "outputs": [
    {
     "data": {
      "text/plain": [
       "[2, 'AaliyarAhmed', False, 'Aali youtube channel']"
      ]
     },
     "execution_count": 60,
     "metadata": {},
     "output_type": "execute_result"
    }
   ],
   "source": [
    "list1.append(\"Aali youtube channel\")\n",
    "list1"
   ]
  },
  {
   "cell_type": "code",
   "execution_count": 61,
   "id": "2bdb2707",
   "metadata": {},
   "outputs": [
    {
     "data": {
      "text/plain": [
       "[20, 30, 35, 40, 50, 60, 33, 568]"
      ]
     },
     "execution_count": 61,
     "metadata": {},
     "output_type": "execute_result"
    }
   ],
   "source": [
    "list3 = [20, 30, 35, 40, 50, 60, 33, 568]\n",
    "list3"
   ]
  },
  {
   "cell_type": "code",
   "execution_count": 62,
   "id": "f8bd3cbd",
   "metadata": {},
   "outputs": [
    {
     "data": {
      "text/plain": [
       "8"
      ]
     },
     "execution_count": 62,
     "metadata": {},
     "output_type": "execute_result"
    }
   ],
   "source": [
    "len(list3)"
   ]
  },
  {
   "cell_type": "code",
   "execution_count": 65,
   "id": "0b7099b7",
   "metadata": {},
   "outputs": [
    {
     "data": {
      "text/plain": [
       "[20, 30, 33, 35, 40, 50, 60, 568]"
      ]
     },
     "execution_count": 65,
     "metadata": {},
     "output_type": "execute_result"
    }
   ],
   "source": [
    "list3.sort()\n",
    "list3"
   ]
  },
  {
   "cell_type": "code",
   "execution_count": 66,
   "id": "6ae2e56c",
   "metadata": {},
   "outputs": [
    {
     "data": {
      "text/plain": [
       "[20, 30, 33, 35, 40, 50, 60, 568, 20, 30, 33, 35, 40, 50, 60, 568]"
      ]
     },
     "execution_count": 66,
     "metadata": {},
     "output_type": "execute_result"
    }
   ],
   "source": [
    "list3*2"
   ]
  },
  {
   "cell_type": "code",
   "execution_count": 11,
   "id": "dc13e1e9",
   "metadata": {},
   "outputs": [
    {
     "name": "stdout",
     "output_type": "stream",
     "text": [
      "Yes, Hello exists\n"
     ]
    }
   ],
   "source": [
    "# check if an element exists\n",
    "\n",
    "list5 = [\"Hello\", \"Welcome\"]\n",
    "\n",
    "if \"Hello\" in list5:\n",
    "    print(\"Yes, Hello exists\")"
   ]
  },
  {
   "cell_type": "code",
   "execution_count": 13,
   "id": "508dfa45",
   "metadata": {},
   "outputs": [
    {
     "data": {
      "text/plain": [
       "['car', 'bike', 'train', 'scooter']"
      ]
     },
     "execution_count": 13,
     "metadata": {},
     "output_type": "execute_result"
    }
   ],
   "source": [
    "# To insert a new list item, without replacing any of the existing values, we can use the insert() method.\n",
    "\n",
    "list6 = [\"car\", \"bike\", \"scooter\"]\n",
    "list6.insert(2, \"train\")\n",
    "list6"
   ]
  },
  {
   "cell_type": "code",
   "execution_count": 15,
   "id": "26c53c5b",
   "metadata": {},
   "outputs": [
    {
     "data": {
      "text/plain": [
       "['car', 'bike', 'scooter', 'helicopter']"
      ]
     },
     "execution_count": 15,
     "metadata": {},
     "output_type": "execute_result"
    }
   ],
   "source": [
    "# To add an item to the end of the list, use the append() method:\n",
    "\n",
    "list6 = [\"car\", \"bike\", \"scooter\"]\n",
    "list6.append(\"helicopter\")\n",
    "list6"
   ]
  },
  {
   "cell_type": "code",
   "execution_count": 17,
   "id": "26dec16c",
   "metadata": {},
   "outputs": [
    {
     "data": {
      "text/plain": [
       "['Honda', 'Toyota', 'Kia', 'Kawasaki', 'Yamaha', 'Harley Davidson']"
      ]
     },
     "execution_count": 17,
     "metadata": {},
     "output_type": "execute_result"
    }
   ],
   "source": [
    "# To append elements from another list to the current list, use the extend() method.\n",
    "\n",
    "cars = [\"Honda\", \"Toyota\", \"Kia\"]\n",
    "bikes = [\"Kawasaki\", \"Yamaha\", \"Harley Davidson\"]\n",
    "\n",
    "cars.extend(bikes)\n",
    "cars"
   ]
  },
  {
   "cell_type": "code",
   "execution_count": 18,
   "id": "eb2d3b4f",
   "metadata": {},
   "outputs": [
    {
     "data": {
      "text/plain": [
       "['chair', 'sofa', 7000, 50000]"
      ]
     },
     "execution_count": 18,
     "metadata": {},
     "output_type": "execute_result"
    }
   ],
   "source": [
    "# The extend() method does not have to append lists, you can add any iterable object (tuples, sets, dictionaries etc.).\n",
    "\n",
    "furniture = [\"chair\", \"sofa\"]\n",
    "price = (7000, 50000)\n",
    "furniture.extend(price)\n",
    "\n",
    "furniture"
   ]
  },
  {
   "cell_type": "code",
   "execution_count": 19,
   "id": "dfbe1122",
   "metadata": {},
   "outputs": [
    {
     "data": {
      "text/plain": [
       "['Yamaha', 'Harley Davidson']"
      ]
     },
     "execution_count": 19,
     "metadata": {},
     "output_type": "execute_result"
    }
   ],
   "source": [
    "# The remove() method removes the specified item.\n",
    "\n",
    "bikes = [\"Kawasaki\", \"Yamaha\", \"Harley Davidson\"]\n",
    "bikes.remove(\"Kawasaki\")\n",
    "\n",
    "bikes\n",
    "\n"
   ]
  },
  {
   "cell_type": "code",
   "execution_count": 20,
   "id": "8c6fad0d",
   "metadata": {},
   "outputs": [
    {
     "data": {
      "text/plain": [
       "['Kawasaki', 'Yamaha']"
      ]
     },
     "execution_count": 20,
     "metadata": {},
     "output_type": "execute_result"
    }
   ],
   "source": [
    "# The pop() method removes the specified index.\n",
    "# If you do not specify the index, the pop() method removes the last item.\n",
    "\n",
    "bikes = [\"Kawasaki\", \"Yamaha\", \"Harley Davidson\"]\n",
    "bikes.pop(2)\n",
    "\n",
    "bikes"
   ]
  },
  {
   "cell_type": "code",
   "execution_count": 21,
   "id": "bf072e29",
   "metadata": {},
   "outputs": [
    {
     "data": {
      "text/plain": [
       "['Kawasaki', 'Yamaha']"
      ]
     },
     "execution_count": 21,
     "metadata": {},
     "output_type": "execute_result"
    }
   ],
   "source": [
    "# The del keyword also removes the specified index:\n",
    "\n",
    "bikes = [\"Kawasaki\", \"Yamaha\", \"Harley Davidson\"]\n",
    "del bikes[2]\n",
    "\n",
    "bikes"
   ]
  },
  {
   "cell_type": "code",
   "execution_count": 22,
   "id": "b1c8efbe",
   "metadata": {},
   "outputs": [
    {
     "data": {
      "text/plain": [
       "[]"
      ]
     },
     "execution_count": 22,
     "metadata": {},
     "output_type": "execute_result"
    }
   ],
   "source": [
    "# The clear() method empties the list. The list still remains, but it has no content.\n",
    "\n",
    "bikes = [\"Kawasaki\", \"Yamaha\", \"Harley Davidson\"]\n",
    "bikes.clear()\n",
    "\n",
    "bikes"
   ]
  },
  {
   "cell_type": "code",
   "execution_count": 24,
   "id": "6ea0f87f",
   "metadata": {},
   "outputs": [
    {
     "name": "stdout",
     "output_type": "stream",
     "text": [
      "Kawasaki\n",
      "Yamaha\n",
      "Harley Davidson\n"
     ]
    }
   ],
   "source": [
    "# You can loop through the list items by using a for loop:\n",
    "\n",
    "bikes = [\"Kawasaki\", \"Yamaha\", \"Harley Davidson\"]\n",
    "\n",
    "for x in bikes:\n",
    "    print(x)"
   ]
  },
  {
   "cell_type": "code",
   "execution_count": 25,
   "id": "fe408572",
   "metadata": {},
   "outputs": [
    {
     "name": "stdout",
     "output_type": "stream",
     "text": [
      "apple\n",
      "banana\n",
      "cherry\n"
     ]
    }
   ],
   "source": [
    "# You can also loop through the list items by referring to their index number.\n",
    "# Use the range() and len() functions to create a suitable iterable.\n",
    "\n",
    "thislist = [\"apple\", \"banana\", \"cherry\"]\n",
    "for i in range(len(thislist)):\n",
    "  print(thislist[i])"
   ]
  },
  {
   "cell_type": "code",
   "execution_count": null,
   "id": "d0551735",
   "metadata": {},
   "outputs": [],
   "source": [
    "# You can loop through the list items by using a while loop.\n",
    "\n",
    "# Use the len() function to determine the length of the list, \n",
    "# then start at 0 and loop your way through the list items by refering to their indexes.\n",
    "# Remember to increase the index by 1 after each iteration."
   ]
  },
  {
   "cell_type": "code",
   "execution_count": 26,
   "id": "37ee8cd9",
   "metadata": {},
   "outputs": [
    {
     "name": "stdout",
     "output_type": "stream",
     "text": [
      "Apple\n",
      "Banana\n",
      "Cherry\n"
     ]
    }
   ],
   "source": [
    "thislist = [\"Apple\", \"Banana\", \"Cherry\"]\n",
    "\n",
    "i = 0\n",
    "while i < len(thislist):\n",
    "    print(thislist[i])\n",
    "    i = i + 1"
   ]
  },
  {
   "cell_type": "code",
   "execution_count": 28,
   "id": "2c3bd7ea",
   "metadata": {},
   "outputs": [
    {
     "name": "stdout",
     "output_type": "stream",
     "text": [
      "Apple\n",
      "Banana\n",
      "Cherry\n"
     ]
    },
    {
     "data": {
      "text/plain": [
       "[None, None, None]"
      ]
     },
     "execution_count": 28,
     "metadata": {},
     "output_type": "execute_result"
    }
   ],
   "source": [
    "# List Comprehension offers the shortest syntax for looping through lists:\n",
    "# Syntax\n",
    "# newlist = [expression for item in iterable if condition == True]\n",
    "\n",
    "thislist = [\"Apple\", \"Banana\", \"Cherry\"]\n",
    "[print(x) for x in thislist]"
   ]
  },
  {
   "cell_type": "code",
   "execution_count": 29,
   "id": "53733208",
   "metadata": {},
   "outputs": [
    {
     "name": "stdout",
     "output_type": "stream",
     "text": [
      "['apple', 'banana', 'mango']\n"
     ]
    }
   ],
   "source": [
    "# another example of list comprehension\n",
    "\n",
    "fruits = [\"apple\", \"banana\", \"cherry\", \"kiwi\", \"mango\"]\n",
    "newlist = []\n",
    "\n",
    "for x in fruits:\n",
    "  if \"a\" in x:\n",
    "    newlist.append(x)\n",
    "\n",
    "print(newlist)"
   ]
  },
  {
   "cell_type": "code",
   "execution_count": 30,
   "id": "aef215fc",
   "metadata": {},
   "outputs": [
    {
     "data": {
      "text/plain": [
       "['apple', 'banana', 'mango']"
      ]
     },
     "execution_count": 30,
     "metadata": {},
     "output_type": "execute_result"
    }
   ],
   "source": [
    "# list after comprehension of above\n",
    "\n",
    "newlist = [x for x in fruits if \"a\" in x]\n",
    "newlist"
   ]
  },
  {
   "cell_type": "code",
   "execution_count": 31,
   "id": "7624e8d8",
   "metadata": {},
   "outputs": [
    {
     "data": {
      "text/plain": [
       "['banana', 'kiwi', 'mango', 'orange', 'pineapple']"
      ]
     },
     "execution_count": 31,
     "metadata": {},
     "output_type": "execute_result"
    }
   ],
   "source": [
    "# List objects have a sort() method that will sort the list alphanumerically, ascending, by default:\n",
    "\n",
    "thislist = [\"orange\", \"mango\", \"kiwi\", \"pineapple\", \"banana\"]\n",
    "\n",
    "thislist.sort()\n",
    "thislist"
   ]
  },
  {
   "cell_type": "code",
   "execution_count": 33,
   "id": "2b2d626a",
   "metadata": {},
   "outputs": [
    {
     "data": {
      "text/plain": [
       "['pineapple', 'orange', 'mango', 'kiwi', 'banana']"
      ]
     },
     "execution_count": 33,
     "metadata": {},
     "output_type": "execute_result"
    }
   ],
   "source": [
    "# descending sort\n",
    "\n",
    "thislist.sort(reverse=True)\n",
    "thislist"
   ]
  },
  {
   "cell_type": "code",
   "execution_count": 34,
   "id": "9ed8bd15",
   "metadata": {},
   "outputs": [
    {
     "data": {
      "text/plain": [
       "['banana', 'pineapple', 'kiwi', 'Kinnoo', 'orange']"
      ]
     },
     "execution_count": 34,
     "metadata": {},
     "output_type": "execute_result"
    }
   ],
   "source": [
    "# The reverse() method reverses the current sorting order of the elements.\n",
    "\n",
    "thatlist = [\"orange\", \"Kinnoo\", \"kiwi\", \"pineapple\", \"banana\"]\n",
    "thatlist.reverse()\n",
    "\n",
    "thatlist"
   ]
  },
  {
   "cell_type": "code",
   "execution_count": 5,
   "id": "3fe57180",
   "metadata": {},
   "outputs": [
    {
     "data": {
      "text/plain": [
       "['apple', 'banana', 'cherry']"
      ]
     },
     "execution_count": 5,
     "metadata": {},
     "output_type": "execute_result"
    }
   ],
   "source": [
    "# Make a copy of a list with the copy() method\n",
    "\n",
    "thislist = [\"apple\", \"banana\", \"cherry\"]\n",
    "mylist = thislist.copy()\n",
    "mylist"
   ]
  },
  {
   "cell_type": "code",
   "execution_count": 4,
   "id": "55d57436",
   "metadata": {},
   "outputs": [
    {
     "data": {
      "text/plain": [
       "['apple', 'banana', 'cherry']"
      ]
     },
     "execution_count": 4,
     "metadata": {},
     "output_type": "execute_result"
    }
   ],
   "source": [
    "# Another method of copying\n",
    "\n",
    "thislist = [\"apple\", \"banana\", \"cherry\"]\n",
    "mylist = list(thislist)\n",
    "mylist"
   ]
  },
  {
   "cell_type": "code",
   "execution_count": 7,
   "id": "b3044a87",
   "metadata": {},
   "outputs": [
    {
     "data": {
      "text/plain": [
       "[1, 2, 3, 'a', 'b', 'c']"
      ]
     },
     "execution_count": 7,
     "metadata": {},
     "output_type": "execute_result"
    }
   ],
   "source": [
    "# There are three ways to join lists\n",
    "# 1. Concatenate\n",
    "\n",
    "list1 = [1, 2, 3]\n",
    "list2 = ['a', 'b', 'c']\n",
    "\n",
    "list3 = list1 + list2\n",
    "list3"
   ]
  },
  {
   "cell_type": "code",
   "execution_count": 10,
   "id": "8fe04efa",
   "metadata": {},
   "outputs": [
    {
     "data": {
      "text/plain": [
       "[1, 2, 3, 'a', 'b', 'c']"
      ]
     },
     "execution_count": 10,
     "metadata": {},
     "output_type": "execute_result"
    }
   ],
   "source": [
    "# 2. Append() method\n",
    "\n",
    "list1 = [1, 2, 3]\n",
    "list2 = ['a', 'b', 'c']\n",
    "\n",
    "for x in list2:\n",
    "    list1.append(x)\n",
    "    \n",
    "list1    "
   ]
  },
  {
   "cell_type": "code",
   "execution_count": 13,
   "id": "32a03be5",
   "metadata": {},
   "outputs": [
    {
     "data": {
      "text/plain": [
       "[1, 2, 3, 'a', 'b', 'c']"
      ]
     },
     "execution_count": 13,
     "metadata": {},
     "output_type": "execute_result"
    }
   ],
   "source": [
    "# 3. extend() method\n",
    "\n",
    "list1 = [1, 2, 3]\n",
    "list2 = ['a', 'b', 'c']\n",
    "\n",
    "list1.extend(list2)\n",
    "list1"
   ]
  },
  {
   "cell_type": "code",
   "execution_count": 15,
   "id": "f5a7c5aa",
   "metadata": {},
   "outputs": [
    {
     "data": {
      "text/plain": [
       "2"
      ]
     },
     "execution_count": 15,
     "metadata": {},
     "output_type": "execute_result"
    }
   ],
   "source": [
    "# index( ) method\n",
    "\n",
    "list9 = [1, 2, 3]\n",
    "list9[1]\n"
   ]
  },
  {
   "cell_type": "markdown",
   "id": "3abcc006",
   "metadata": {},
   "source": [
    "## 3- Dictionaries\n",
    "\n",
    "- An unordered collection of elements\n",
    "- Mutateable or Change the values\n",
    "- Curly braces or brackets\n",
    "- Key and Value\n",
    "- Can't concatenate"
   ]
  },
  {
   "cell_type": "code",
   "execution_count": 4,
   "id": "2ad5368e",
   "metadata": {},
   "outputs": [
    {
     "data": {
      "text/plain": [
       "{'Samosa': 30, 'Raita': 20, 'Salad': 50, 'Chiken Rools': 30}"
      ]
     },
     "execution_count": 4,
     "metadata": {},
     "output_type": "execute_result"
    }
   ],
   "source": [
    "# Food and their prices\n",
    "\n",
    "food1 = {\"Samosa\":30, \"Raita\":20, \"Salad\":50, \"Chiken Rools\":30}\n",
    "food1"
   ]
  },
  {
   "cell_type": "code",
   "execution_count": 5,
   "id": "86369e22",
   "metadata": {},
   "outputs": [
    {
     "data": {
      "text/plain": [
       "dict"
      ]
     },
     "execution_count": 5,
     "metadata": {},
     "output_type": "execute_result"
    }
   ],
   "source": [
    "type(food1)"
   ]
  },
  {
   "cell_type": "code",
   "execution_count": 6,
   "id": "be8569ec",
   "metadata": {},
   "outputs": [
    {
     "data": {
      "text/plain": [
       "dict_keys(['Samosa', 'Raita', 'Salad', 'Chiken Rools'])"
      ]
     },
     "execution_count": 6,
     "metadata": {},
     "output_type": "execute_result"
    }
   ],
   "source": [
    "# extract data\n",
    "\n",
    "keys1 = food1.keys()\n",
    "keys1"
   ]
  },
  {
   "cell_type": "code",
   "execution_count": 7,
   "id": "e4e7f056",
   "metadata": {},
   "outputs": [
    {
     "data": {
      "text/plain": [
       "dict_values([30, 20, 50, 30])"
      ]
     },
     "execution_count": 7,
     "metadata": {},
     "output_type": "execute_result"
    }
   ],
   "source": [
    "values1 = food1.values()\n",
    "values1"
   ]
  },
  {
   "cell_type": "code",
   "execution_count": 8,
   "id": "d679072b",
   "metadata": {},
   "outputs": [
    {
     "data": {
      "text/plain": [
       "{'Samosa': 30, 'Raita': 20, 'Salad': 50, 'Chiken Rools': 30, 'Tikki': 30}"
      ]
     },
     "execution_count": 8,
     "metadata": {},
     "output_type": "execute_result"
    }
   ],
   "source": [
    "# adding new element\n",
    "\n",
    "food1[\"Tikki\"]=30\n",
    "food1"
   ]
  },
  {
   "cell_type": "code",
   "execution_count": 10,
   "id": "43b89185",
   "metadata": {},
   "outputs": [
    {
     "data": {
      "text/plain": [
       "{'Samosa': 30, 'Raita': 20, 'Salad': 50, 'Chiken Rools': 30, 'Tikki': 15}"
      ]
     },
     "execution_count": 10,
     "metadata": {},
     "output_type": "execute_result"
    }
   ],
   "source": [
    "# update/modify the values\n",
    "\n",
    "food1[\"Tikki\"]=15\n",
    "food1"
   ]
  },
  {
   "cell_type": "code",
   "execution_count": 11,
   "id": "03d831ba",
   "metadata": {},
   "outputs": [
    {
     "data": {
      "text/plain": [
       "{'Dates': 50, 'Chocolates': 200, 'Swayyan': 1000}"
      ]
     },
     "execution_count": 11,
     "metadata": {},
     "output_type": "execute_result"
    }
   ],
   "source": [
    "food2 = {\"Dates\":50, \"Chocolates\":200, \"Swayyan\":1000}\n",
    "food2"
   ]
  },
  {
   "cell_type": "code",
   "execution_count": 12,
   "id": "55ab4a64",
   "metadata": {},
   "outputs": [],
   "source": [
    "food1.update(food2)"
   ]
  },
  {
   "cell_type": "code",
   "execution_count": 13,
   "id": "850247d8",
   "metadata": {},
   "outputs": [
    {
     "data": {
      "text/plain": [
       "{'Samosa': 30,\n",
       " 'Raita': 20,\n",
       " 'Salad': 50,\n",
       " 'Chiken Rools': 30,\n",
       " 'Tikki': 15,\n",
       " 'Dates': 50,\n",
       " 'Chocolates': 200,\n",
       " 'Swayyan': 1000}"
      ]
     },
     "execution_count": 13,
     "metadata": {},
     "output_type": "execute_result"
    }
   ],
   "source": [
    "food1"
   ]
  },
  {
   "cell_type": "markdown",
   "id": "77c0e579",
   "metadata": {},
   "source": [
    "## 4- Set\n",
    "\n",
    "- Unordered and unindexed\n",
    "- Curly braces are used {}\n",
    "- No duplicates\n",
    "- Only numbers and strings are allowed"
   ]
  },
  {
   "cell_type": "code",
   "execution_count": 20,
   "id": "4c66b87f",
   "metadata": {},
   "outputs": [
    {
     "data": {
      "text/plain": [
       "{1, 2.2, 5.2, 'Aaliyar', 'Codanics', 'Daharki'}"
      ]
     },
     "execution_count": 20,
     "metadata": {},
     "output_type": "execute_result"
    }
   ],
   "source": [
    "# boolean not allowed\n",
    "set1 = {1, 2.2, 5.2, \"Aaliyar\", \"Codanics\", \"Daharki\", True}\n",
    "set1"
   ]
  },
  {
   "cell_type": "code",
   "execution_count": 19,
   "id": "e927ecfa",
   "metadata": {},
   "outputs": [
    {
     "data": {
      "text/plain": [
       "{1, 2.2, 5.2, 'Aaliyar', 'Codanics', 'Daharki'}"
      ]
     },
     "execution_count": 19,
     "metadata": {},
     "output_type": "execute_result"
    }
   ],
   "source": [
    "# duplicates not allowed\n",
    "set1.add(\"Aaliyar\")\n",
    "set1"
   ]
  },
  {
   "cell_type": "code",
   "execution_count": 21,
   "id": "cb10c921",
   "metadata": {},
   "outputs": [
    {
     "data": {
      "text/plain": [
       "{2.2, 5.2, 'Aaliyar', 'Codanics', 'Daharki'}"
      ]
     },
     "execution_count": 21,
     "metadata": {},
     "output_type": "execute_result"
    }
   ],
   "source": [
    "set1.remove(True)\n",
    "set1"
   ]
  },
  {
   "cell_type": "code",
   "execution_count": null,
   "id": "5b072af4",
   "metadata": {},
   "outputs": [],
   "source": []
  },
  {
   "cell_type": "code",
   "execution_count": null,
   "id": "ade07ebf",
   "metadata": {},
   "outputs": [],
   "source": []
  },
  {
   "cell_type": "code",
   "execution_count": null,
   "id": "0381338c",
   "metadata": {},
   "outputs": [],
   "source": []
  },
  {
   "cell_type": "code",
   "execution_count": null,
   "id": "8b4fd93a",
   "metadata": {},
   "outputs": [],
   "source": []
  },
  {
   "cell_type": "code",
   "execution_count": null,
   "id": "4439e7be",
   "metadata": {},
   "outputs": [],
   "source": []
  }
 ],
 "metadata": {
  "kernelspec": {
   "display_name": "Python 3",
   "language": "python",
   "name": "python3"
  },
  "language_info": {
   "codemirror_mode": {
    "name": "ipython",
    "version": 3
   },
   "file_extension": ".py",
   "mimetype": "text/x-python",
   "name": "python",
   "nbconvert_exporter": "python",
   "pygments_lexer": "ipython3",
   "version": "3.8.8"
  }
 },
 "nbformat": 4,
 "nbformat_minor": 5
}
