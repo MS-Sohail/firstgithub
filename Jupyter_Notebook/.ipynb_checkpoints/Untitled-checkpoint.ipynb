{
 "cells": [
  {
   "cell_type": "markdown",
   "id": "72f54e91",
   "metadata": {},
   "source": [
    "# Python ka Chilla with Baba Aammar\n",
    "## How to use Jupyter Notebook\n",
    "### Basics of Python"
   ]
  },
  {
   "cell_type": "markdown",
   "id": "fef7d9a9",
   "metadata": {},
   "source": [
    "**CHAPTER 01 - FIRST PROGRAM**"
   ]
  },
  {
   "cell_type": "code",
   "execution_count": 1,
   "id": "399ee36a",
   "metadata": {},
   "outputs": [
    {
     "name": "stdout",
     "output_type": "stream",
     "text": [
      "5\n",
      "Hello World\n",
      "Python with Sohail\n"
     ]
    }
   ],
   "source": [
    "# CHAPTER 01 - FIRST PROGRAM\n",
    "\n",
    "print(2+3)\n",
    "print(\"Hello World\")\n",
    "print(\"Python with Sohail\")"
   ]
  },
  {
   "cell_type": "markdown",
   "id": "c8c2af01",
   "metadata": {},
   "source": [
    "**CHAPTER 02 - OPERATORS**"
   ]
  },
  {
   "cell_type": "code",
   "execution_count": 2,
   "id": "bd8db8b5",
   "metadata": {
    "scrolled": true
   },
   "outputs": [
    {
     "name": "stdout",
     "output_type": "stream",
     "text": [
      "3\n",
      "2\n",
      "6\n",
      "3.0\n",
      "3\n",
      "0\n",
      "8\n",
      "6.5\n"
     ]
    }
   ],
   "source": [
    "# CHAPTER 02 - OPERATORS\n",
    "\n",
    "print(2+1)\n",
    "print(3-1)\n",
    "print(2*3)\n",
    "print(6/2)\n",
    "print(6//2)\n",
    "print(6%2)\n",
    "print(2**3)\n",
    "\n",
    "# PEMDAS\n",
    "# Paranthesis Exponent Multiplication Division Addition Subtraction\n",
    "# Left to Right sequence foe MDAS\n",
    "\n",
    "print((3**2)/2*3/3+6-4)"
   ]
  },
  {
   "cell_type": "markdown",
   "id": "e2dae7ff",
   "metadata": {},
   "source": [
    "**CHAPTER 03 - STRINGS**"
   ]
  },
  {
   "cell_type": "code",
   "execution_count": 3,
   "id": "e8d97a2d",
   "metadata": {},
   "outputs": [
    {
     "name": "stdout",
     "output_type": "stream",
     "text": [
      "Hello World\n",
      "Python with Sohail\n",
      "Test for single quotes\n",
      " Test for double quotes\n",
      "  Test for triple quotes\n"
     ]
    }
   ],
   "source": [
    "# CHAPTER 03 - STRINGS \n",
    "\n",
    "print(\"Hello World\")\n",
    "print(\"Python with Sohail\")\n",
    "print('Test for single quotes')\n",
    "print(\" Test for double quotes\")\n",
    "print('''  Test for triple quotes''')"
   ]
  },
  {
   "cell_type": "markdown",
   "id": "12ecf21c",
   "metadata": {},
   "source": [
    "**CHAPTER 04 - COMMENTS (CTRL+/)**"
   ]
  },
  {
   "cell_type": "code",
   "execution_count": 4,
   "id": "3556ec7f",
   "metadata": {},
   "outputs": [
    {
     "name": "stdout",
     "output_type": "stream",
     "text": [
      "How are you\n",
      "We are learning python with Aammar\n",
      "8\n"
     ]
    }
   ],
   "source": [
    "# CHAPTER 04 - COMMENTS (CTRL+/)\n",
    "\n",
    "print(\"How are you\")\n",
    "print(\"We are learning python with Aammar\")\n",
    "print(2+6)"
   ]
  },
  {
   "cell_type": "markdown",
   "id": "0e9eafce",
   "metadata": {},
   "source": [
    "**CHAPTER 05 - VARIABLES**"
   ]
  },
  {
   "cell_type": "code",
   "execution_count": 5,
   "id": "c3f28b25",
   "metadata": {},
   "outputs": [
    {
     "name": "stdout",
     "output_type": "stream",
     "text": [
      "5\n",
      "We are learning Python\n",
      "<class 'int'>\n",
      "<class 'str'>\n",
      "8\n",
      "<class 'int'>\n",
      "Mangoes\n",
      "<class 'str'>\n"
     ]
    }
   ],
   "source": [
    "# CHAPTER 05 - VARIABLES\n",
    "\n",
    "x = 5\n",
    "print(x)\n",
    "\n",
    "y = \"We are learning Python\"\n",
    "print(y)\n",
    "\n",
    "# types or class of variables\n",
    "\n",
    "type(x)\n",
    "print(type(x))\n",
    "print(type(y))\n",
    "\n",
    "# Rules to assign a varible name\n",
    "\n",
    "# 1- The variable should contain letters, numbers or underscores\n",
    "# 2- Do not start with numbers\n",
    "# 3- Spaces are not allowed\n",
    "# 4. Do no yse keywords used in functions\n",
    "# 5. Short and descriptive\n",
    "# 6. Case senstivity\n",
    "\n",
    "fruit_basket = 8\n",
    "print(fruit_basket)\n",
    "print(type(fruit_basket))\n",
    "\n",
    "fruit_basket = \"Mangoes\"\n",
    "print(fruit_basket)\n",
    "print(type(fruit_basket))\n"
   ]
  },
  {
   "cell_type": "markdown",
   "id": "ea74c7d7",
   "metadata": {},
   "source": [
    "**CHAPTER 06 - INPUT VARIABLES**"
   ]
  },
  {
   "cell_type": "code",
   "execution_count": 6,
   "id": "c6ebba6e",
   "metadata": {},
   "outputs": [
    {
     "name": "stdout",
     "output_type": "stream",
     "text": [
      "Mangoes\n",
      "Which is your favorite fruit?Apple\n",
      "Apple\n",
      "What is your name? Aaliyar\n",
      "Hello Aaliyar\n",
      "What is your name? Aaliyar\n",
      "Hello Aaliyar\n",
      "What is your name? Aaliyar\n",
      "How old are you? 2\n",
      "Hello Aaliyar , You are still young!\n"
     ]
    }
   ],
   "source": [
    "# CHAPTER 06 - INPUT VARIABLES\n",
    "\n",
    "import msilib\n",
    "\n",
    "\n",
    "fruit_basket = \"Mangoes\"\n",
    "print(fruit_basket)\n",
    "\n",
    "# Input function simple\n",
    "\n",
    "fruit_basket = input(\"Which is your favorite fruit?\")\n",
    "print(fruit_basket)\n",
    "\n",
    "# Input function of second stage\n",
    "\n",
    "name = input(\"What is your name? \")\n",
    "greetings = \"Hello\"\n",
    "print(greetings, name)\n",
    "\n",
    "# Another way of second stage input function\n",
    "\n",
    "name = input(\"What is your name? \")\n",
    "print(\"Hello\", name)\n",
    "\n",
    "# Third stage input function\n",
    "\n",
    "name = input(\"What is your name? \")\n",
    "age = input(\"How old are you? \" )\n",
    "greetings = \"Hello\"\n",
    "print(greetings, name, \", You are still young!\")"
   ]
  },
  {
   "cell_type": "markdown",
   "id": "e9290cc2",
   "metadata": {},
   "source": [
    "**CHAPTER 07 - CONDITIONAL_LOGIC**"
   ]
  },
  {
   "cell_type": "code",
   "execution_count": 7,
   "id": "ae60520c",
   "metadata": {},
   "outputs": [
    {
     "name": "stdout",
     "output_type": "stream",
     "text": [
      "False\n",
      "How old is Aaliyar? 5\n",
      "True\n"
     ]
    }
   ],
   "source": [
    "# CHAPTER 07 - CONDITIONAL_LOGIC\n",
    "\n",
    "# Logical operators are TRUE or FALSE\n",
    "# == != > >= < <=\n",
    "\n",
    "Aaliyar_age = 2\n",
    "age_at_school = 5\n",
    "print(Aaliyar_age == age_at_school)\n",
    "\n",
    "# Input operators and logicals\n",
    "\n",
    "age_at_school = 5\n",
    "Aaliyar_age = input(\"How old is Aaliyar? \")\n",
    "Aaliyar_age = int(Aaliyar_age)\n",
    "print(Aaliyar_age == age_at_school)"
   ]
  },
  {
   "cell_type": "markdown",
   "id": "4e5c3c5e",
   "metadata": {},
   "source": [
    "**CHAPTER 08 - TYPE CONVERSION**"
   ]
  },
  {
   "cell_type": "code",
   "execution_count": 8,
   "id": "6f3c0d1c",
   "metadata": {},
   "outputs": [
    {
     "name": "stdout",
     "output_type": "stream",
     "text": [
      "10 10.5 Hello\n",
      "105.0 <class 'float'>\n",
      "10.5 <class 'float'>\n",
      "What is your age? 1\n",
      "<class 'int'>\n",
      "What is your name? AA\n",
      "<class 'str'>\n"
     ]
    }
   ],
   "source": [
    "# CHAPTER 08 - TYPE CONVERSION\n",
    "\n",
    "x = 10          # integer\n",
    "y = 10.5        # float\n",
    "z = \"Hello\"     # string\n",
    "\n",
    "print(x, y, z)\n",
    "\n",
    "# implicit type conversion\n",
    "x = x*y\n",
    "print(x, type(x))\n",
    "print(y, type(y))\n",
    "\n",
    "# explicit type coversion\n",
    "\n",
    "age = input(\"What is your age? \")\n",
    "age = int(age)\n",
    "print(type(age))\n",
    "\n",
    "# name\n",
    "\n",
    "name = input(\"What is your name? \")\n",
    "print(type(name))"
   ]
  },
  {
   "cell_type": "markdown",
   "id": "e6c14801",
   "metadata": {},
   "source": [
    "**CHAPTER 09 - if, else and elif**"
   ]
  },
  {
   "cell_type": "code",
   "execution_count": 9,
   "id": "62634d2c",
   "metadata": {},
   "outputs": [
    {
     "name": "stdout",
     "output_type": "stream",
     "text": [
      "Congratulations! Hammad can goto school\n"
     ]
    }
   ],
   "source": [
    "# CHAPTER 09 - if, else and elif\n",
    "\n",
    "hammad_age = 5\n",
    "required_age_at_school = 5\n",
    "# can hammad go to school?\n",
    "\n",
    "if hammad_age == required_age_at_school:\n",
    "    print(\"Congratulations! Hammad can goto school\")\n",
    "elif hammad_age > required_age_at_school:\n",
    "    print(\"Hammad should join higher secondary school\")\n",
    "elif hammad_age <=2:\n",
    "    print(\"Hammad is a baby!\")\n",
    "else:\n",
    "    print(\"Hammad can not goto school\")\n"
   ]
  },
  {
   "cell_type": "markdown",
   "id": "d0e2733d",
   "metadata": {},
   "source": [
    "**CHAPTER 10 - FUNCTIONS**"
   ]
  },
  {
   "cell_type": "code",
   "execution_count": 10,
   "id": "2b513922",
   "metadata": {},
   "outputs": [
    {
     "name": "stdout",
     "output_type": "stream",
     "text": [
      "I love Aaliyar!\n",
      "I love Aaliyar!\n",
      "I love Aaliyar!\n",
      "I love Aaliyar!\n",
      "I love Aaliyar!\n",
      "I love Aaliyar!\n",
      "We love Aaliyar Ahmed\n",
      "We love Aaliyar Ahmed\n",
      "We love Aaliyar Ahmed\n",
      "We love Aaliyar Ahmed\n",
      "We love Aaliyar Ahmed\n",
      "We love Aaliyar Ahmed\n",
      "Aaliyar can join the school.\n",
      "38\n"
     ]
    }
   ],
   "source": [
    "# CHAPTER 10 - FUNCTIONS\n",
    "\n",
    "print(\"I love Aaliyar!\")\n",
    "print(\"I love Aaliyar!\")\n",
    "print(\"I love Aaliyar!\")\n",
    "\n",
    "# 1 Defining a function\n",
    "\n",
    "def aali():\n",
    "    print(\"I love Aaliyar!\")\n",
    "    print(\"I love Aaliyar!\")\n",
    "    print(\"I love Aaliyar!\")\n",
    "\n",
    "aali()\n",
    "\n",
    "# 2\n",
    "\n",
    "def aali():\n",
    "    text = \"We love Aaliyar Ahmed\"\n",
    "    print(text)\n",
    "    print(text)\n",
    "    print(text)\n",
    "\n",
    "aali()\n",
    "\n",
    "# 3\n",
    "\n",
    "def aali(text):\n",
    "    print(text)\n",
    "    print(text)\n",
    "    print(text)\n",
    "\n",
    "aali(\"We love Aaliyar Ahmed\")\n",
    "\n",
    "# 4 defining a function with if, elif and else statements\n",
    "\n",
    "def school_calculator(age):\n",
    "    if age==5:\n",
    "        print(\"Aaliyar can join the school.\")\n",
    "    elif age>5:\n",
    "        print(\"Aaliyar should join college\")\n",
    "    else:\n",
    "        print(\"Aaliyar is still a baby.\")\n",
    "\n",
    "school_calculator(5)\n",
    "\n",
    "# future function\n",
    "\n",
    "def future_age(age):\n",
    "    new_age = age+20\n",
    "    return new_age\n",
    "    print(new_age)\n",
    "\n",
    "predicted_age = future_age(18)\n",
    "print(predicted_age)"
   ]
  },
  {
   "cell_type": "markdown",
   "id": "14f288cc",
   "metadata": {},
   "source": [
    "**CHAPTER 11 - LOOPS - while and for loops**"
   ]
  },
  {
   "cell_type": "code",
   "execution_count": 11,
   "id": "fa40a204",
   "metadata": {
    "scrolled": true
   },
   "outputs": [
    {
     "name": "stdout",
     "output_type": "stream",
     "text": [
      "0\n",
      "1\n",
      "2\n",
      "3\n",
      "4\n",
      "5\n",
      "6\n",
      "7\n",
      "8\n",
      "9\n",
      "Mon\n",
      "Tue\n",
      "Wed\n",
      "Thu\n"
     ]
    }
   ],
   "source": [
    "# CHAPTER 11 - LOOPS\n",
    "# while and for loops\n",
    "\n",
    "# while loop\n",
    "\n",
    "x = 0\n",
    "while x<5:\n",
    "    print(x)\n",
    "    x = x+1\n",
    "\n",
    "# for loop\n",
    "\n",
    "for x in range(5,10):\n",
    "    print(x)\n",
    "\n",
    "# Arrays\n",
    "\n",
    "days = [\"Mon\", \"Tue\", \"Wed\", \"Thu\", \"Fri\", \"Sat\", \"Sun\"]\n",
    "\n",
    "for d in days:\n",
    "    if d==\"Fri\":\n",
    "        break\n",
    "    if d==\"Fri\":\n",
    "        continue\n",
    "    print(d)\n",
    "\n"
   ]
  },
  {
   "cell_type": "markdown",
   "id": "6a655b30",
   "metadata": {},
   "source": [
    "**CHAPTER 12 - IMPORT LIBRARIES**"
   ]
  },
  {
   "cell_type": "code",
   "execution_count": 12,
   "id": "a6ff75ae",
   "metadata": {},
   "outputs": [
    {
     "name": "stdout",
     "output_type": "stream",
     "text": [
      "The value of pi is 3.141592653589793\n",
      "300\n"
     ]
    }
   ],
   "source": [
    "# Chapter 12 - Import Libraries\n",
    "# if you want to print the value of pi\n",
    "\n",
    "import math\n",
    "print(\"The value of pi is\", math.pi)\n",
    "\n",
    "import statistics\n",
    "x = [150,250,350,450]\n",
    "print(statistics.mean(x))\n",
    "\n",
    "# important libraries = numpy and pandas\n"
   ]
  },
  {
   "cell_type": "markdown",
   "id": "fbd6e4eb",
   "metadata": {},
   "source": [
    "**CHAPTER 13 - IMPORT LIBRARIES**"
   ]
  },
  {
   "cell_type": "code",
   "execution_count": 13,
   "id": "cb90d2b9",
   "metadata": {},
   "outputs": [
    {
     "ename": "SyntaxError",
     "evalue": "invalid syntax (<ipython-input-13-7142f9249414>, line 1)",
     "output_type": "error",
     "traceback": [
      "\u001b[1;36m  File \u001b[1;32m\"<ipython-input-13-7142f9249414>\"\u001b[1;36m, line \u001b[1;32m1\u001b[0m\n\u001b[1;33m    print(We are learning Python)   # syntax error\u001b[0m\n\u001b[1;37m             ^\u001b[0m\n\u001b[1;31mSyntaxError\u001b[0m\u001b[1;31m:\u001b[0m invalid syntax\n"
     ]
    }
   ],
   "source": [
    "print(We are learning Python)   # syntax error\n",
    "\n",
    "print(25/0)                     # runtime error\n",
    "\n",
    "name = \"Aaliyar\"\n",
    "print(\"Hello name\")             # semantic error\n",
    "print(\"Hello\", name)\n"
   ]
  }
 ],
 "metadata": {
  "kernelspec": {
   "display_name": "Python 3",
   "language": "python",
   "name": "python3"
  },
  "language_info": {
   "codemirror_mode": {
    "name": "ipython",
    "version": 3
   },
   "file_extension": ".py",
   "mimetype": "text/x-python",
   "name": "python",
   "nbconvert_exporter": "python",
   "pygments_lexer": "ipython3",
   "version": "3.8.8"
  }
 },
 "nbformat": 4,
 "nbformat_minor": 5
}
