{
 "cells": [
  {
   "cell_type": "markdown",
   "id": "9d3374e7",
   "metadata": {},
   "source": [
    "# - Indexing"
   ]
  },
  {
   "cell_type": "code",
   "execution_count": 1,
   "id": "c043f804",
   "metadata": {},
   "outputs": [
    {
     "data": {
      "text/plain": [
       "'Samosa Pakora'"
      ]
     },
     "execution_count": 1,
     "metadata": {},
     "output_type": "execute_result"
    }
   ],
   "source": [
    "# make a string\n",
    "\n",
    "a = \"Samosa Pakora\"\n",
    "a"
   ]
  },
  {
   "cell_type": "code",
   "execution_count": 2,
   "id": "2b5f86f7",
   "metadata": {},
   "outputs": [
    {
     "data": {
      "text/plain": [
       "'Samosa Pakora'"
      ]
     },
     "execution_count": 2,
     "metadata": {},
     "output_type": "execute_result"
    }
   ],
   "source": [
    "a"
   ]
  },
  {
   "cell_type": "code",
   "execution_count": 3,
   "id": "d79f9aab",
   "metadata": {
    "scrolled": true
   },
   "outputs": [
    {
     "data": {
      "text/plain": [
       "'S'"
      ]
     },
     "execution_count": 3,
     "metadata": {},
     "output_type": "execute_result"
    }
   ],
   "source": [
    "a[0]"
   ]
  },
  {
   "cell_type": "code",
   "execution_count": 4,
   "id": "d1f57410",
   "metadata": {},
   "outputs": [
    {
     "data": {
      "text/plain": [
       "'Samosa'"
      ]
     },
     "execution_count": 4,
     "metadata": {},
     "output_type": "execute_result"
    }
   ],
   "source": [
    "a[0:6]"
   ]
  },
  {
   "cell_type": "code",
   "execution_count": 5,
   "id": "780e76c5",
   "metadata": {
    "scrolled": true
   },
   "outputs": [
    {
     "data": {
      "text/plain": [
       "'Samosa Pakora'"
      ]
     },
     "execution_count": 5,
     "metadata": {},
     "output_type": "execute_result"
    }
   ],
   "source": [
    "a[0:13]"
   ]
  },
  {
   "cell_type": "code",
   "execution_count": 6,
   "id": "05ef667c",
   "metadata": {},
   "outputs": [
    {
     "data": {
      "text/plain": [
       "13"
      ]
     },
     "execution_count": 6,
     "metadata": {},
     "output_type": "execute_result"
    }
   ],
   "source": [
    "len(a)"
   ]
  },
  {
   "cell_type": "code",
   "execution_count": 7,
   "id": "0680b3f7",
   "metadata": {},
   "outputs": [
    {
     "data": {
      "text/plain": [
       "'a'"
      ]
     },
     "execution_count": 7,
     "metadata": {},
     "output_type": "execute_result"
    }
   ],
   "source": [
    "a[-1]"
   ]
  },
  {
   "cell_type": "code",
   "execution_count": 8,
   "id": "1af1c4d9",
   "metadata": {},
   "outputs": [
    {
     "data": {
      "text/plain": [
       "'S'"
      ]
     },
     "execution_count": 8,
     "metadata": {},
     "output_type": "execute_result"
    }
   ],
   "source": [
    "a[-13]"
   ]
  },
  {
   "cell_type": "code",
   "execution_count": 10,
   "id": "a6d2c92f",
   "metadata": {},
   "outputs": [
    {
     "data": {
      "text/plain": [
       "'Samosa Pakor'"
      ]
     },
     "execution_count": 10,
     "metadata": {},
     "output_type": "execute_result"
    }
   ],
   "source": [
    "a[-13:-1]"
   ]
  },
  {
   "cell_type": "code",
   "execution_count": 11,
   "id": "d6c129cd",
   "metadata": {},
   "outputs": [
    {
     "data": {
      "text/plain": [
       "'Samosa Pakora'"
      ]
     },
     "execution_count": 11,
     "metadata": {},
     "output_type": "execute_result"
    }
   ],
   "source": [
    "a[-13:13]"
   ]
  },
  {
   "cell_type": "code",
   "execution_count": 16,
   "id": "019e6a30",
   "metadata": {},
   "outputs": [
    {
     "data": {
      "text/plain": [
       "'biryani'"
      ]
     },
     "execution_count": 16,
     "metadata": {},
     "output_type": "execute_result"
    }
   ],
   "source": [
    "food = \"biryani\"\n",
    "food"
   ]
  },
  {
   "cell_type": "markdown",
   "id": "7aa911cc",
   "metadata": {},
   "source": [
    "## String Methods"
   ]
  },
  {
   "cell_type": "code",
   "execution_count": 17,
   "id": "900c5a6c",
   "metadata": {},
   "outputs": [
    {
     "data": {
      "text/plain": [
       "'biryani'"
      ]
     },
     "execution_count": 17,
     "metadata": {},
     "output_type": "execute_result"
    }
   ],
   "source": [
    "food"
   ]
  },
  {
   "cell_type": "code",
   "execution_count": 15,
   "id": "35204f15",
   "metadata": {},
   "outputs": [
    {
     "data": {
      "text/plain": [
       "7"
      ]
     },
     "execution_count": 15,
     "metadata": {},
     "output_type": "execute_result"
    }
   ],
   "source": [
    "len(food)"
   ]
  },
  {
   "cell_type": "code",
   "execution_count": 18,
   "id": "21fd62cb",
   "metadata": {},
   "outputs": [
    {
     "data": {
      "text/plain": [
       "'Biryani'"
      ]
     },
     "execution_count": 18,
     "metadata": {},
     "output_type": "execute_result"
    }
   ],
   "source": [
    "food.capitalize()"
   ]
  },
  {
   "cell_type": "code",
   "execution_count": 19,
   "id": "fa9a2140",
   "metadata": {},
   "outputs": [
    {
     "data": {
      "text/plain": [
       "'BIRYANI'"
      ]
     },
     "execution_count": 19,
     "metadata": {},
     "output_type": "execute_result"
    }
   ],
   "source": [
    "food.upper()"
   ]
  },
  {
   "cell_type": "code",
   "execution_count": 20,
   "id": "6866b806",
   "metadata": {},
   "outputs": [
    {
     "data": {
      "text/plain": [
       "'biryani'"
      ]
     },
     "execution_count": 20,
     "metadata": {},
     "output_type": "execute_result"
    }
   ],
   "source": [
    "food.lower()"
   ]
  },
  {
   "cell_type": "code",
   "execution_count": 21,
   "id": "6779cf0a",
   "metadata": {},
   "outputs": [
    {
     "data": {
      "text/plain": [
       "'Shiryani'"
      ]
     },
     "execution_count": 21,
     "metadata": {},
     "output_type": "execute_result"
    }
   ],
   "source": [
    "food.replace(\"b\", \"Sh\")"
   ]
  },
  {
   "cell_type": "code",
   "execution_count": 23,
   "id": "d23902cc",
   "metadata": {},
   "outputs": [
    {
     "data": {
      "text/plain": [
       "'Aaliyar Ahmed with Muhammad Sohail'"
      ]
     },
     "execution_count": 23,
     "metadata": {},
     "output_type": "execute_result"
    }
   ],
   "source": [
    "# counting a specific alphabet in a string\n",
    "\n",
    "name = \"Aaliyar Ahmed with Muhammad Sohail\"\n",
    "name"
   ]
  },
  {
   "cell_type": "code",
   "execution_count": 24,
   "id": "c1580d31",
   "metadata": {},
   "outputs": [
    {
     "data": {
      "text/plain": [
       "5"
      ]
     },
     "execution_count": 24,
     "metadata": {},
     "output_type": "execute_result"
    }
   ],
   "source": [
    "name.count(\"a\")"
   ]
  },
  {
   "cell_type": "code",
   "execution_count": 25,
   "id": "04004f07",
   "metadata": {},
   "outputs": [
    {
     "data": {
      "text/plain": [
       "1"
      ]
     },
     "execution_count": 25,
     "metadata": {},
     "output_type": "execute_result"
    }
   ],
   "source": [
    "name.count(\"Sohail\")"
   ]
  },
  {
   "cell_type": "code",
   "execution_count": 26,
   "id": "a6e4d415",
   "metadata": {},
   "outputs": [
    {
     "data": {
      "text/plain": [
       "34"
      ]
     },
     "execution_count": 26,
     "metadata": {},
     "output_type": "execute_result"
    }
   ],
   "source": [
    "len(name)"
   ]
  },
  {
   "cell_type": "markdown",
   "id": "ca80b966",
   "metadata": {},
   "source": [
    "### - Finding an index number in string"
   ]
  },
  {
   "cell_type": "code",
   "execution_count": 27,
   "id": "3dbc6473",
   "metadata": {},
   "outputs": [
    {
     "data": {
      "text/plain": [
       "'Aaliyar Ahmed with Muhammad Sohail'"
      ]
     },
     "execution_count": 27,
     "metadata": {},
     "output_type": "execute_result"
    }
   ],
   "source": [
    "name = \"Aaliyar Ahmed with Muhammad Sohail\"\n",
    "name"
   ]
  },
  {
   "cell_type": "code",
   "execution_count": 28,
   "id": "eba63312",
   "metadata": {},
   "outputs": [
    {
     "data": {
      "text/plain": [
       "14"
      ]
     },
     "execution_count": 28,
     "metadata": {},
     "output_type": "execute_result"
    }
   ],
   "source": [
    "name.find(\"w\")"
   ]
  },
  {
   "cell_type": "code",
   "execution_count": 29,
   "id": "fcbe3a41",
   "metadata": {},
   "outputs": [
    {
     "data": {
      "text/plain": [
       "'I love samosa, pakora, raita, biryani and karahi'"
      ]
     },
     "execution_count": 29,
     "metadata": {},
     "output_type": "execute_result"
    }
   ],
   "source": [
    "### - how to split a string\n",
    "\n",
    "food = \"I love samosa, pakora, raita, biryani and karahi\"\n",
    "food"
   ]
  },
  {
   "cell_type": "code",
   "execution_count": 30,
   "id": "547c1f68",
   "metadata": {},
   "outputs": [
    {
     "data": {
      "text/plain": [
       "['I love samosa', ' pakora', ' raita', ' biryani and karahi']"
      ]
     },
     "execution_count": 30,
     "metadata": {},
     "output_type": "execute_result"
    }
   ],
   "source": [
    "food.split(\",\")"
   ]
  },
  {
   "cell_type": "markdown",
   "id": "9721c4ef",
   "metadata": {},
   "source": [
    "## Basic Data Structures in Python\n",
    "\n",
    "### 1- Tuple is a collection which is ordered and changeable. Allows duplicate members.\n",
    "### 2- List is a collection which is ordered and unchangeable. Allows duplicate members. \n",
    "### 3- Dictionaries is a collection which is ordered and changeable. No duplicate members.\n",
    "### 4- Set is a collection which is unordered, unchangeable, and unindexed. No duplicate members."
   ]
  },
  {
   "cell_type": "markdown",
   "id": "820937c5",
   "metadata": {},
   "source": [
    "## 1- Tuple\n",
    "\n",
    "- ordered collection of elements\n",
    "- enclosed in () round braces / paranthesis\n",
    "- different kind of elements can be stored\n",
    "- Duplicate elements are allowed because they are indexed\n",
    "- once elements are stored you can not change them (unmutable), can't add or remove elements"
   ]
  },
  {
   "cell_type": "code",
   "execution_count": 23,
   "id": "11893210",
   "metadata": {},
   "outputs": [
    {
     "data": {
      "text/plain": [
       "('aaliyar',)"
      ]
     },
     "execution_count": 23,
     "metadata": {},
     "output_type": "execute_result"
    }
   ],
   "source": [
    "tupp = (\"aaliyar\",)\n",
    "tupp"
   ]
  },
  {
   "cell_type": "code",
   "execution_count": 31,
   "id": "a6cf16c3",
   "metadata": {},
   "outputs": [
    {
     "data": {
      "text/plain": [
       "(1, 'Python', True, 2.5)"
      ]
     },
     "execution_count": 31,
     "metadata": {},
     "output_type": "execute_result"
    }
   ],
   "source": [
    "tup1 = (1, \"Python\", True, 2.5)\n",
    "tup1"
   ]
  },
  {
   "cell_type": "code",
   "execution_count": 32,
   "id": "0bfa7960",
   "metadata": {},
   "outputs": [
    {
     "data": {
      "text/plain": [
       "tuple"
      ]
     },
     "execution_count": 32,
     "metadata": {},
     "output_type": "execute_result"
    }
   ],
   "source": [
    "# type of tuple\n",
    "\n",
    "type(tup1)"
   ]
  },
  {
   "cell_type": "markdown",
   "id": "505f45ff",
   "metadata": {},
   "source": [
    "### Indexing in tuple"
   ]
  },
  {
   "cell_type": "code",
   "execution_count": 33,
   "id": "e387bfbb",
   "metadata": {},
   "outputs": [
    {
     "data": {
      "text/plain": [
       "1"
      ]
     },
     "execution_count": 33,
     "metadata": {},
     "output_type": "execute_result"
    }
   ],
   "source": [
    "tup1[0]"
   ]
  },
  {
   "cell_type": "code",
   "execution_count": 34,
   "id": "f7b8ed08",
   "metadata": {},
   "outputs": [
    {
     "data": {
      "text/plain": [
       "(1, 'Python', True)"
      ]
     },
     "execution_count": 34,
     "metadata": {},
     "output_type": "execute_result"
    }
   ],
   "source": [
    "tup1[0:3]"
   ]
  },
  {
   "cell_type": "code",
   "execution_count": 35,
   "id": "8ffd1e0f",
   "metadata": {},
   "outputs": [
    {
     "data": {
      "text/plain": [
       "(1, 'Python', True, 2.5)"
      ]
     },
     "execution_count": 35,
     "metadata": {},
     "output_type": "execute_result"
    }
   ],
   "source": [
    "tup1[0:4]"
   ]
  },
  {
   "cell_type": "code",
   "execution_count": 36,
   "id": "7a982b2f",
   "metadata": {},
   "outputs": [
    {
     "data": {
      "text/plain": [
       "4"
      ]
     },
     "execution_count": 36,
     "metadata": {},
     "output_type": "execute_result"
    }
   ],
   "source": [
    "# count of elements in tuple\n",
    "len(tup1)"
   ]
  },
  {
   "cell_type": "code",
   "execution_count": 25,
   "id": "9e313403",
   "metadata": {},
   "outputs": [
    {
     "data": {
      "text/plain": [
       "(2, 'Aaliyar', 3.5, False)"
      ]
     },
     "execution_count": 25,
     "metadata": {},
     "output_type": "execute_result"
    }
   ],
   "source": [
    "tup2 = (2, \"Aaliyar\", 3.5, False)\n",
    "tup2"
   ]
  },
  {
   "cell_type": "code",
   "execution_count": 27,
   "id": "a504f38a",
   "metadata": {},
   "outputs": [
    {
     "name": "stdout",
     "output_type": "stream",
     "text": [
      "Yes\n"
     ]
    }
   ],
   "source": [
    "# to find a specific element use in keyword\n",
    "if \"Aaliyar\" in tup2:\n",
    "    print(\"Yes\")"
   ]
  },
  {
   "cell_type": "code",
   "execution_count": 39,
   "id": "97a50bb1",
   "metadata": {},
   "outputs": [
    {
     "data": {
      "text/plain": [
       "(1, 'Python', True, 2.5, 2, 'Aaliyar', 3.5, False)"
      ]
     },
     "execution_count": 39,
     "metadata": {},
     "output_type": "execute_result"
    }
   ],
   "source": [
    "# concatenate\n",
    "tup1 + tup2"
   ]
  },
  {
   "cell_type": "code",
   "execution_count": 40,
   "id": "00c21409",
   "metadata": {},
   "outputs": [
    {
     "data": {
      "text/plain": [
       "(1, 'Python', True, 2.5, 1, 'Python', True, 2.5, 2, 'Aaliyar', 3.5, False)"
      ]
     },
     "execution_count": 40,
     "metadata": {},
     "output_type": "execute_result"
    }
   ],
   "source": [
    "tup1*2 + tup2"
   ]
  },
  {
   "cell_type": "code",
   "execution_count": 42,
   "id": "c72b6271",
   "metadata": {},
   "outputs": [],
   "source": [
    "tup3 = (20, 30, 50, 60, 79, 65)"
   ]
  },
  {
   "cell_type": "code",
   "execution_count": 43,
   "id": "2254cdce",
   "metadata": {},
   "outputs": [
    {
     "data": {
      "text/plain": [
       "20"
      ]
     },
     "execution_count": 43,
     "metadata": {},
     "output_type": "execute_result"
    }
   ],
   "source": [
    "# minimum\n",
    "min(tup3)"
   ]
  },
  {
   "cell_type": "code",
   "execution_count": 44,
   "id": "66561231",
   "metadata": {},
   "outputs": [
    {
     "data": {
      "text/plain": [
       "79"
      ]
     },
     "execution_count": 44,
     "metadata": {},
     "output_type": "execute_result"
    }
   ],
   "source": [
    "# maximum\n",
    "max(tup3)"
   ]
  },
  {
   "cell_type": "code",
   "execution_count": 47,
   "id": "2bb3e5d0",
   "metadata": {},
   "outputs": [
    {
     "data": {
      "text/plain": [
       "(20, 30, 50, 60, 79, 65, 20, 30, 50, 60, 79, 65, 20, 30, 50, 60, 79, 65)"
      ]
     },
     "execution_count": 47,
     "metadata": {},
     "output_type": "execute_result"
    }
   ],
   "source": [
    "tup3*3"
   ]
  },
  {
   "cell_type": "code",
   "execution_count": 29,
   "id": "328ec4e2",
   "metadata": {},
   "outputs": [
    {
     "data": {
      "text/plain": [
       "'Apple'"
      ]
     },
     "execution_count": 29,
     "metadata": {},
     "output_type": "execute_result"
    }
   ],
   "source": [
    "thistuple = (\"Apple\")\n",
    "thistuple"
   ]
  },
  {
   "cell_type": "code",
   "execution_count": 31,
   "id": "bda98f29",
   "metadata": {},
   "outputs": [
    {
     "ename": "NameError",
     "evalue": "name 'thistuple' is not defined",
     "output_type": "error",
     "traceback": [
      "\u001b[1;31m---------------------------------------------------------------------------\u001b[0m",
      "\u001b[1;31mNameError\u001b[0m                                 Traceback (most recent call last)",
      "\u001b[1;32m<ipython-input-31-ec62e32f7d54>\u001b[0m in \u001b[0;36m<module>\u001b[1;34m\u001b[0m\n\u001b[0;32m      1\u001b[0m \u001b[1;31m# The del keyword can delete the tuple completely\u001b[0m\u001b[1;33m\u001b[0m\u001b[1;33m\u001b[0m\u001b[1;33m\u001b[0m\u001b[0m\n\u001b[1;32m----> 2\u001b[1;33m \u001b[1;32mdel\u001b[0m \u001b[0mthistuple\u001b[0m\u001b[1;33m\u001b[0m\u001b[1;33m\u001b[0m\u001b[0m\n\u001b[0m\u001b[0;32m      3\u001b[0m \u001b[0mthistuple\u001b[0m\u001b[1;33m\u001b[0m\u001b[1;33m\u001b[0m\u001b[0m\n",
      "\u001b[1;31mNameError\u001b[0m: name 'thistuple' is not defined"
     ]
    }
   ],
   "source": [
    "# The del keyword can delete the tuple completely\n",
    "del thistuple\n",
    "thistuple"
   ]
  },
  {
   "cell_type": "code",
   "execution_count": 38,
   "id": "4118c214",
   "metadata": {},
   "outputs": [
    {
     "data": {
      "text/plain": [
       "('Apple', 'Kiwi', 'Cherry')"
      ]
     },
     "execution_count": 38,
     "metadata": {},
     "output_type": "execute_result"
    }
   ],
   "source": [
    "# Convert the tuple into a list to be able to change it\n",
    "\n",
    "x = (\"Apple\", \"Banana\", \"Cherry\")\n",
    "y = list(x)\n",
    "y\n",
    "y[1] = \"Kiwi\"\n",
    "y\n",
    "x = tuple(y)\n",
    "x"
   ]
  },
  {
   "cell_type": "code",
   "execution_count": 2,
   "id": "3c9dff75",
   "metadata": {},
   "outputs": [
    {
     "name": "stdout",
     "output_type": "stream",
     "text": [
      "Aaliyar\n",
      "Ahmed\n",
      "Sohail\n"
     ]
    }
   ],
   "source": [
    "# You can loop through the tuple items by using a for loop.\n",
    "\n",
    "tup4 = (\"Aaliyar\", \"Ahmed\", \"Sohail\")\n",
    "for B in tup4:\n",
    "    print(B)\n"
   ]
  },
  {
   "cell_type": "code",
   "execution_count": 3,
   "id": "3422d84a",
   "metadata": {},
   "outputs": [
    {
     "data": {
      "text/plain": [
       "('Aaliyar', 'Maria', 143)"
      ]
     },
     "execution_count": 3,
     "metadata": {},
     "output_type": "execute_result"
    }
   ],
   "source": [
    "# tuple can be created using a tuple constructor()\n",
    "\n",
    "tup7 = tuple((\"Aaliyar\", \"Maria\", 143))\n",
    "tup7"
   ]
  },
  {
   "cell_type": "markdown",
   "id": "2b9d59d4",
   "metadata": {},
   "source": [
    "### Tuple built-in methods\n",
    "1. count() Returns the number of times a specified value occurs in a tuple\n",
    "2. index() Searches the tuple for a specified value and returns the position of where it was found"
   ]
  },
  {
   "cell_type": "code",
   "execution_count": 42,
   "id": "f5acaf9d",
   "metadata": {},
   "outputs": [
    {
     "data": {
      "text/plain": [
       "('Aaliyar', 21, 21, True)"
      ]
     },
     "execution_count": 42,
     "metadata": {},
     "output_type": "execute_result"
    }
   ],
   "source": [
    "tup5 = (\"Aaliyar\", 21, 21, True)\n",
    "tup5"
   ]
  },
  {
   "cell_type": "code",
   "execution_count": 48,
   "id": "003983c5",
   "metadata": {},
   "outputs": [
    {
     "data": {
      "text/plain": [
       "2"
      ]
     },
     "execution_count": 48,
     "metadata": {},
     "output_type": "execute_result"
    }
   ],
   "source": [
    "tup5.count(21)"
   ]
  },
  {
   "cell_type": "code",
   "execution_count": 51,
   "id": "c3715f8e",
   "metadata": {},
   "outputs": [
    {
     "data": {
      "text/plain": [
       "3"
      ]
     },
     "execution_count": 51,
     "metadata": {},
     "output_type": "execute_result"
    }
   ],
   "source": [
    "tup5.index(True)"
   ]
  },
  {
   "cell_type": "markdown",
   "id": "859ad53b",
   "metadata": {},
   "source": [
    "# 2- LIST"
   ]
  },
  {
   "cell_type": "markdown",
   "id": "bd9ee1ba",
   "metadata": {},
   "source": [
    "- ordered collection of elements\n",
    "- enclosed in [ ] square braces/brackets\n",
    "- Mutateable, you can change the values\n",
    "- Allow duplicate values"
   ]
  },
  {
   "cell_type": "markdown",
   "id": "f143806d",
   "metadata": {},
   "source": [
    "- Method\tDescription\n",
    "\n",
    "- append()\tAdds an element at the end of the list\n",
    "- clear()\tRemoves all the elements from the list\n",
    "- copy()\tReturns a copy of the list\n",
    "- count()\tReturns the number of elements with the specified value\n",
    "- extend()\tAdd the elements of a list (or any iterable), to the end of the current list\n",
    "- index()\tReturns the index of the first element with the specified value\n",
    "- insert()\tAdds an element at the specified position\n",
    "- pop()\tRemoves the element at the specified position\n",
    "- remove()\tRemoves the item with the specified value\n",
    "- reverse()\tReverses the order of the list\n",
    "- sort()\tSorts the list"
   ]
  },
  {
   "cell_type": "code",
   "execution_count": 49,
   "id": "e4d32af5",
   "metadata": {},
   "outputs": [
    {
     "data": {
      "text/plain": [
       "[2, 'AaliyarAhmed', False]"
      ]
     },
     "execution_count": 49,
     "metadata": {},
     "output_type": "execute_result"
    }
   ],
   "source": [
    "list1 = [2, \"AaliyarAhmed\", False]\n",
    "list1"
   ]
  },
  {
   "cell_type": "code",
   "execution_count": 50,
   "id": "928efffb",
   "metadata": {},
   "outputs": [
    {
     "data": {
      "text/plain": [
       "list"
      ]
     },
     "execution_count": 50,
     "metadata": {},
     "output_type": "execute_result"
    }
   ],
   "source": [
    "type(list1)"
   ]
  },
  {
   "cell_type": "code",
   "execution_count": 51,
   "id": "c7d90e4a",
   "metadata": {},
   "outputs": [
    {
     "data": {
      "text/plain": [
       "3"
      ]
     },
     "execution_count": 51,
     "metadata": {},
     "output_type": "execute_result"
    }
   ],
   "source": [
    "len(list1)"
   ]
  },
  {
   "cell_type": "code",
   "execution_count": 52,
   "id": "ab44e28b",
   "metadata": {},
   "outputs": [
    {
     "data": {
      "text/plain": [
       "False"
      ]
     },
     "execution_count": 52,
     "metadata": {},
     "output_type": "execute_result"
    }
   ],
   "source": [
    "list1[2]"
   ]
  },
  {
   "cell_type": "code",
   "execution_count": 53,
   "id": "6566b9b3",
   "metadata": {},
   "outputs": [
    {
     "data": {
      "text/plain": [
       "[3, 5, 'Sohail', 'Aaliyar', 478, 53.2, False]"
      ]
     },
     "execution_count": 53,
     "metadata": {},
     "output_type": "execute_result"
    }
   ],
   "source": [
    "list2 = [3, 5, \"Sohail\", \"Aaliyar\", 478, 53.2, False]\n",
    "list2"
   ]
  },
  {
   "cell_type": "code",
   "execution_count": 54,
   "id": "62d36a89",
   "metadata": {},
   "outputs": [
    {
     "data": {
      "text/plain": [
       "[2, 'AaliyarAhmed', False, 3, 5, 'Sohail', 'Aaliyar', 478, 53.2, False]"
      ]
     },
     "execution_count": 54,
     "metadata": {},
     "output_type": "execute_result"
    }
   ],
   "source": [
    "list1 + list2"
   ]
  },
  {
   "cell_type": "code",
   "execution_count": 55,
   "id": "79b6d529",
   "metadata": {},
   "outputs": [
    {
     "data": {
      "text/plain": [
       "[2, 'AaliyarAhmed', False, 2, 'AaliyarAhmed', False]"
      ]
     },
     "execution_count": 55,
     "metadata": {},
     "output_type": "execute_result"
    }
   ],
   "source": [
    "list1 * 2"
   ]
  },
  {
   "cell_type": "code",
   "execution_count": 58,
   "id": "9d5e65d2",
   "metadata": {},
   "outputs": [
    {
     "data": {
      "text/plain": [
       "[2, 'AaliyarAhmed', False]"
      ]
     },
     "execution_count": 58,
     "metadata": {},
     "output_type": "execute_result"
    }
   ],
   "source": [
    "list1.reverse()\n",
    "list1"
   ]
  },
  {
   "cell_type": "code",
   "execution_count": 59,
   "id": "82bfb24d",
   "metadata": {},
   "outputs": [
    {
     "data": {
      "text/plain": [
       "[False, 53.2, 478, 'Aaliyar', 'Sohail', 5, 3]"
      ]
     },
     "execution_count": 59,
     "metadata": {},
     "output_type": "execute_result"
    }
   ],
   "source": [
    "list2.reverse()\n",
    "list2"
   ]
  },
  {
   "cell_type": "code",
   "execution_count": 60,
   "id": "f2419813",
   "metadata": {},
   "outputs": [
    {
     "data": {
      "text/plain": [
       "[2, 'AaliyarAhmed', False, 'Aali youtube channel']"
      ]
     },
     "execution_count": 60,
     "metadata": {},
     "output_type": "execute_result"
    }
   ],
   "source": [
    "list1.append(\"Aali youtube channel\")\n",
    "list1"
   ]
  },
  {
   "cell_type": "code",
   "execution_count": 61,
   "id": "2bdb2707",
   "metadata": {},
   "outputs": [
    {
     "data": {
      "text/plain": [
       "[20, 30, 35, 40, 50, 60, 33, 568]"
      ]
     },
     "execution_count": 61,
     "metadata": {},
     "output_type": "execute_result"
    }
   ],
   "source": [
    "list3 = [20, 30, 35, 40, 50, 60, 33, 568]\n",
    "list3"
   ]
  },
  {
   "cell_type": "code",
   "execution_count": 62,
   "id": "f8bd3cbd",
   "metadata": {},
   "outputs": [
    {
     "data": {
      "text/plain": [
       "8"
      ]
     },
     "execution_count": 62,
     "metadata": {},
     "output_type": "execute_result"
    }
   ],
   "source": [
    "len(list3)"
   ]
  },
  {
   "cell_type": "code",
   "execution_count": 65,
   "id": "0b7099b7",
   "metadata": {},
   "outputs": [
    {
     "data": {
      "text/plain": [
       "[20, 30, 33, 35, 40, 50, 60, 568]"
      ]
     },
     "execution_count": 65,
     "metadata": {},
     "output_type": "execute_result"
    }
   ],
   "source": [
    "list3.sort()\n",
    "list3"
   ]
  },
  {
   "cell_type": "code",
   "execution_count": 66,
   "id": "6ae2e56c",
   "metadata": {},
   "outputs": [
    {
     "data": {
      "text/plain": [
       "[20, 30, 33, 35, 40, 50, 60, 568, 20, 30, 33, 35, 40, 50, 60, 568]"
      ]
     },
     "execution_count": 66,
     "metadata": {},
     "output_type": "execute_result"
    }
   ],
   "source": [
    "list3*2"
   ]
  },
  {
   "cell_type": "code",
   "execution_count": 11,
   "id": "dc13e1e9",
   "metadata": {},
   "outputs": [
    {
     "name": "stdout",
     "output_type": "stream",
     "text": [
      "Yes, Hello exists\n"
     ]
    }
   ],
   "source": [
    "# check if an element exists\n",
    "\n",
    "list5 = [\"Hello\", \"Welcome\"]\n",
    "\n",
    "if \"Hello\" in list5:\n",
    "    print(\"Yes, Hello exists\")"
   ]
  },
  {
   "cell_type": "code",
   "execution_count": 13,
   "id": "508dfa45",
   "metadata": {},
   "outputs": [
    {
     "data": {
      "text/plain": [
       "['car', 'bike', 'train', 'scooter']"
      ]
     },
     "execution_count": 13,
     "metadata": {},
     "output_type": "execute_result"
    }
   ],
   "source": [
    "# To insert a new list item, without replacing any of the existing values, we can use the insert() method.\n",
    "\n",
    "list6 = [\"car\", \"bike\", \"scooter\"]\n",
    "list6.insert(2, \"train\")\n",
    "list6"
   ]
  },
  {
   "cell_type": "code",
   "execution_count": 15,
   "id": "26c53c5b",
   "metadata": {},
   "outputs": [
    {
     "data": {
      "text/plain": [
       "['car', 'bike', 'scooter', 'helicopter']"
      ]
     },
     "execution_count": 15,
     "metadata": {},
     "output_type": "execute_result"
    }
   ],
   "source": [
    "# To add an item to the end of the list, use the append() method:\n",
    "\n",
    "list6 = [\"car\", \"bike\", \"scooter\"]\n",
    "list6.append(\"helicopter\")\n",
    "list6"
   ]
  },
  {
   "cell_type": "code",
   "execution_count": 17,
   "id": "26dec16c",
   "metadata": {},
   "outputs": [
    {
     "data": {
      "text/plain": [
       "['Honda', 'Toyota', 'Kia', 'Kawasaki', 'Yamaha', 'Harley Davidson']"
      ]
     },
     "execution_count": 17,
     "metadata": {},
     "output_type": "execute_result"
    }
   ],
   "source": [
    "# To append elements from another list to the current list, use the extend() method.\n",
    "\n",
    "cars = [\"Honda\", \"Toyota\", \"Kia\"]\n",
    "bikes = [\"Kawasaki\", \"Yamaha\", \"Harley Davidson\"]\n",
    "\n",
    "cars.extend(bikes)\n",
    "cars"
   ]
  },
  {
   "cell_type": "code",
   "execution_count": 18,
   "id": "eb2d3b4f",
   "metadata": {},
   "outputs": [
    {
     "data": {
      "text/plain": [
       "['chair', 'sofa', 7000, 50000]"
      ]
     },
     "execution_count": 18,
     "metadata": {},
     "output_type": "execute_result"
    }
   ],
   "source": [
    "# The extend() method does not have to append lists, you can add any iterable object (tuples, sets, dictionaries etc.).\n",
    "\n",
    "furniture = [\"chair\", \"sofa\"]\n",
    "price = (7000, 50000)\n",
    "furniture.extend(price)\n",
    "\n",
    "furniture"
   ]
  },
  {
   "cell_type": "code",
   "execution_count": 19,
   "id": "dfbe1122",
   "metadata": {},
   "outputs": [
    {
     "data": {
      "text/plain": [
       "['Yamaha', 'Harley Davidson']"
      ]
     },
     "execution_count": 19,
     "metadata": {},
     "output_type": "execute_result"
    }
   ],
   "source": [
    "# The remove() method removes the specified item.\n",
    "\n",
    "bikes = [\"Kawasaki\", \"Yamaha\", \"Harley Davidson\"]\n",
    "bikes.remove(\"Kawasaki\")\n",
    "\n",
    "bikes\n",
    "\n"
   ]
  },
  {
   "cell_type": "code",
   "execution_count": 20,
   "id": "8c6fad0d",
   "metadata": {},
   "outputs": [
    {
     "data": {
      "text/plain": [
       "['Kawasaki', 'Yamaha']"
      ]
     },
     "execution_count": 20,
     "metadata": {},
     "output_type": "execute_result"
    }
   ],
   "source": [
    "# The pop() method removes the specified index.\n",
    "# If you do not specify the index, the pop() method removes the last item.\n",
    "\n",
    "bikes = [\"Kawasaki\", \"Yamaha\", \"Harley Davidson\"]\n",
    "bikes.pop(2)\n",
    "\n",
    "bikes"
   ]
  },
  {
   "cell_type": "code",
   "execution_count": 21,
   "id": "bf072e29",
   "metadata": {},
   "outputs": [
    {
     "data": {
      "text/plain": [
       "['Kawasaki', 'Yamaha']"
      ]
     },
     "execution_count": 21,
     "metadata": {},
     "output_type": "execute_result"
    }
   ],
   "source": [
    "# The del keyword also removes the specified index:\n",
    "\n",
    "bikes = [\"Kawasaki\", \"Yamaha\", \"Harley Davidson\"]\n",
    "del bikes[2]\n",
    "\n",
    "bikes"
   ]
  },
  {
   "cell_type": "code",
   "execution_count": 22,
   "id": "b1c8efbe",
   "metadata": {},
   "outputs": [
    {
     "data": {
      "text/plain": [
       "[]"
      ]
     },
     "execution_count": 22,
     "metadata": {},
     "output_type": "execute_result"
    }
   ],
   "source": [
    "# The clear() method empties the list. The list still remains, but it has no content.\n",
    "\n",
    "bikes = [\"Kawasaki\", \"Yamaha\", \"Harley Davidson\"]\n",
    "bikes.clear()\n",
    "\n",
    "bikes"
   ]
  },
  {
   "cell_type": "code",
   "execution_count": 24,
   "id": "6ea0f87f",
   "metadata": {},
   "outputs": [
    {
     "name": "stdout",
     "output_type": "stream",
     "text": [
      "Kawasaki\n",
      "Yamaha\n",
      "Harley Davidson\n"
     ]
    }
   ],
   "source": [
    "# You can loop through the list items by using a for loop:\n",
    "\n",
    "bikes = [\"Kawasaki\", \"Yamaha\", \"Harley Davidson\"]\n",
    "\n",
    "for x in bikes:\n",
    "    print(x)"
   ]
  },
  {
   "cell_type": "code",
   "execution_count": 25,
   "id": "fe408572",
   "metadata": {},
   "outputs": [
    {
     "name": "stdout",
     "output_type": "stream",
     "text": [
      "apple\n",
      "banana\n",
      "cherry\n"
     ]
    }
   ],
   "source": [
    "# You can also loop through the list items by referring to their index number.\n",
    "# Use the range() and len() functions to create a suitable iterable.\n",
    "\n",
    "thislist = [\"apple\", \"banana\", \"cherry\"]\n",
    "for i in range(len(thislist)):\n",
    "  print(thislist[i])"
   ]
  },
  {
   "cell_type": "code",
   "execution_count": null,
   "id": "d0551735",
   "metadata": {},
   "outputs": [],
   "source": [
    "# You can loop through the list items by using a while loop.\n",
    "\n",
    "# Use the len() function to determine the length of the list, \n",
    "# then start at 0 and loop your way through the list items by refering to their indexes.\n",
    "# Remember to increase the index by 1 after each iteration."
   ]
  },
  {
   "cell_type": "code",
   "execution_count": 26,
   "id": "37ee8cd9",
   "metadata": {},
   "outputs": [
    {
     "name": "stdout",
     "output_type": "stream",
     "text": [
      "Apple\n",
      "Banana\n",
      "Cherry\n"
     ]
    }
   ],
   "source": [
    "thislist = [\"Apple\", \"Banana\", \"Cherry\"]\n",
    "\n",
    "i = 0\n",
    "while i < len(thislist):\n",
    "    print(thislist[i])\n",
    "    i = i + 1"
   ]
  },
  {
   "cell_type": "code",
   "execution_count": 28,
   "id": "2c3bd7ea",
   "metadata": {},
   "outputs": [
    {
     "name": "stdout",
     "output_type": "stream",
     "text": [
      "Apple\n",
      "Banana\n",
      "Cherry\n"
     ]
    },
    {
     "data": {
      "text/plain": [
       "[None, None, None]"
      ]
     },
     "execution_count": 28,
     "metadata": {},
     "output_type": "execute_result"
    }
   ],
   "source": [
    "# List Comprehension offers the shortest syntax for looping through lists:\n",
    "# Syntax\n",
    "# newlist = [expression for item in iterable if condition == True]\n",
    "\n",
    "thislist = [\"Apple\", \"Banana\", \"Cherry\"]\n",
    "[print(x) for x in thislist]"
   ]
  },
  {
   "cell_type": "code",
   "execution_count": 29,
   "id": "53733208",
   "metadata": {},
   "outputs": [
    {
     "name": "stdout",
     "output_type": "stream",
     "text": [
      "['apple', 'banana', 'mango']\n"
     ]
    }
   ],
   "source": [
    "# another example of list comprehension\n",
    "\n",
    "fruits = [\"apple\", \"banana\", \"cherry\", \"kiwi\", \"mango\"]\n",
    "newlist = []\n",
    "\n",
    "for x in fruits:\n",
    "  if \"a\" in x:\n",
    "    newlist.append(x)\n",
    "\n",
    "print(newlist)"
   ]
  },
  {
   "cell_type": "code",
   "execution_count": 30,
   "id": "aef215fc",
   "metadata": {},
   "outputs": [
    {
     "data": {
      "text/plain": [
       "['apple', 'banana', 'mango']"
      ]
     },
     "execution_count": 30,
     "metadata": {},
     "output_type": "execute_result"
    }
   ],
   "source": [
    "# list after comprehension of above\n",
    "\n",
    "newlist = [x for x in fruits if \"a\" in x]\n",
    "newlist"
   ]
  },
  {
   "cell_type": "code",
   "execution_count": 31,
   "id": "7624e8d8",
   "metadata": {},
   "outputs": [
    {
     "data": {
      "text/plain": [
       "['banana', 'kiwi', 'mango', 'orange', 'pineapple']"
      ]
     },
     "execution_count": 31,
     "metadata": {},
     "output_type": "execute_result"
    }
   ],
   "source": [
    "# List objects have a sort() method that will sort the list alphanumerically, ascending, by default:\n",
    "\n",
    "thislist = [\"orange\", \"mango\", \"kiwi\", \"pineapple\", \"banana\"]\n",
    "\n",
    "thislist.sort()\n",
    "thislist"
   ]
  },
  {
   "cell_type": "code",
   "execution_count": 33,
   "id": "2b2d626a",
   "metadata": {},
   "outputs": [
    {
     "data": {
      "text/plain": [
       "['pineapple', 'orange', 'mango', 'kiwi', 'banana']"
      ]
     },
     "execution_count": 33,
     "metadata": {},
     "output_type": "execute_result"
    }
   ],
   "source": [
    "# descending sort\n",
    "\n",
    "thislist.sort(reverse=True)\n",
    "thislist"
   ]
  },
  {
   "cell_type": "code",
   "execution_count": 34,
   "id": "9ed8bd15",
   "metadata": {},
   "outputs": [
    {
     "data": {
      "text/plain": [
       "['banana', 'pineapple', 'kiwi', 'Kinnoo', 'orange']"
      ]
     },
     "execution_count": 34,
     "metadata": {},
     "output_type": "execute_result"
    }
   ],
   "source": [
    "# The reverse() method reverses the current sorting order of the elements.\n",
    "\n",
    "thatlist = [\"orange\", \"Kinnoo\", \"kiwi\", \"pineapple\", \"banana\"]\n",
    "thatlist.reverse()\n",
    "\n",
    "thatlist"
   ]
  },
  {
   "cell_type": "code",
   "execution_count": 5,
   "id": "3fe57180",
   "metadata": {},
   "outputs": [
    {
     "data": {
      "text/plain": [
       "['apple', 'banana', 'cherry']"
      ]
     },
     "execution_count": 5,
     "metadata": {},
     "output_type": "execute_result"
    }
   ],
   "source": [
    "# Make a copy of a list with the copy() method\n",
    "\n",
    "thislist = [\"apple\", \"banana\", \"cherry\"]\n",
    "mylist = thislist.copy()\n",
    "mylist"
   ]
  },
  {
   "cell_type": "code",
   "execution_count": 4,
   "id": "55d57436",
   "metadata": {},
   "outputs": [
    {
     "data": {
      "text/plain": [
       "['apple', 'banana', 'cherry']"
      ]
     },
     "execution_count": 4,
     "metadata": {},
     "output_type": "execute_result"
    }
   ],
   "source": [
    "# Another method of copying\n",
    "\n",
    "thislist = [\"apple\", \"banana\", \"cherry\"]\n",
    "mylist = list(thislist)\n",
    "mylist"
   ]
  },
  {
   "cell_type": "code",
   "execution_count": 7,
   "id": "b3044a87",
   "metadata": {},
   "outputs": [
    {
     "data": {
      "text/plain": [
       "[1, 2, 3, 'a', 'b', 'c']"
      ]
     },
     "execution_count": 7,
     "metadata": {},
     "output_type": "execute_result"
    }
   ],
   "source": [
    "# There are three ways to join lists\n",
    "# 1. Concatenate\n",
    "\n",
    "list1 = [1, 2, 3]\n",
    "list2 = ['a', 'b', 'c']\n",
    "\n",
    "list3 = list1 + list2\n",
    "list3"
   ]
  },
  {
   "cell_type": "code",
   "execution_count": 10,
   "id": "8fe04efa",
   "metadata": {},
   "outputs": [
    {
     "data": {
      "text/plain": [
       "[1, 2, 3, 'a', 'b', 'c']"
      ]
     },
     "execution_count": 10,
     "metadata": {},
     "output_type": "execute_result"
    }
   ],
   "source": [
    "# 2. Append() method\n",
    "\n",
    "list1 = [1, 2, 3]\n",
    "list2 = ['a', 'b', 'c']\n",
    "\n",
    "for x in list2:\n",
    "    list1.append(x)\n",
    "    \n",
    "list1    "
   ]
  },
  {
   "cell_type": "code",
   "execution_count": 13,
   "id": "32a03be5",
   "metadata": {},
   "outputs": [
    {
     "data": {
      "text/plain": [
       "[1, 2, 3, 'a', 'b', 'c']"
      ]
     },
     "execution_count": 13,
     "metadata": {},
     "output_type": "execute_result"
    }
   ],
   "source": [
    "# 3. extend() method\n",
    "\n",
    "list1 = [1, 2, 3]\n",
    "list2 = ['a', 'b', 'c']\n",
    "\n",
    "list1.extend(list2)\n",
    "list1"
   ]
  },
  {
   "cell_type": "code",
   "execution_count": 15,
   "id": "f5a7c5aa",
   "metadata": {},
   "outputs": [
    {
     "data": {
      "text/plain": [
       "2"
      ]
     },
     "execution_count": 15,
     "metadata": {},
     "output_type": "execute_result"
    }
   ],
   "source": [
    "# index( ) method\n",
    "\n",
    "list9 = [1, 2, 3]\n",
    "list9[1]\n"
   ]
  },
  {
   "cell_type": "markdown",
   "id": "3abcc006",
   "metadata": {},
   "source": [
    "## 3- Dictionaries\n",
    "\n",
    "- An unordered collection of elements\n",
    "- Mutateable or Change/add/remove the elements\n",
    "- Curly braces or brackets\n",
    "- Key and Value\n",
    "- string, integer, boolean and list types of elements\n",
    "- Duplicates not allowed, cannot have two items with the same key\n",
    "- Can't concatenate"
   ]
  },
  {
   "cell_type": "markdown",
   "id": "4d12a1ad",
   "metadata": {},
   "source": [
    "- Method \tDescription\n",
    "- clear()\tRemoves all the elements from the dictionary\n",
    "- copy()\tReturns a copy of the dictionary\n",
    "- fromkeys()\tReturns a dictionary with the specified keys and value\n",
    "- get()\tReturns the value of the specified key\n",
    "- items()\tReturns a list containing a tuple for each key value pair\n",
    "- keys()\tReturns a list containing the dictionary's keys\n",
    "- pop()\tRemoves the element with the specified key\n",
    "- popitem()\tRemoves the last inserted key-value pair\n",
    "- setdefault()\tReturns the value of the specified key. If the key does not exist: insert the key, with the specified value\n",
    "- update()\tUpdates the dictionary with the specified key-value pairs\n",
    "- values()\tReturns a list of all the values in the dictionary"
   ]
  },
  {
   "cell_type": "code",
   "execution_count": 4,
   "id": "f8139828",
   "metadata": {},
   "outputs": [
    {
     "data": {
      "text/plain": [
       "4"
      ]
     },
     "execution_count": 4,
     "metadata": {},
     "output_type": "execute_result"
    }
   ],
   "source": [
    "# string, integer, boolean and list types of elements\n",
    "\n",
    "thisdict = {\n",
    "  \"brand\": \"Ford\",\n",
    "  \"electric\": False,\n",
    "  \"year\": 1964,\n",
    "  \"colors\": [\"red\", \"white\", \"blue\"]\n",
    "} \n",
    "\n",
    "thisdict\n",
    "len(thisdict)"
   ]
  },
  {
   "cell_type": "code",
   "execution_count": 15,
   "id": "a9c7ac0b",
   "metadata": {},
   "outputs": [
    {
     "data": {
      "text/plain": [
       "{'car': 'toyota', 'electric': True, 'Year': 2019}"
      ]
     },
     "execution_count": 15,
     "metadata": {},
     "output_type": "execute_result"
    }
   ],
   "source": [
    "# duplicate keys not elements\n",
    "\n",
    "mydict = {\n",
    "    \"car\" : \"toyota\",\n",
    "    \"electric\" : True,\n",
    "    \"Year\" : 2016,\n",
    "    \"Year\" : 2019\n",
    "}\n",
    "\n",
    "mydict"
   ]
  },
  {
   "cell_type": "code",
   "execution_count": 22,
   "id": "920143b0",
   "metadata": {},
   "outputs": [
    {
     "data": {
      "text/plain": [
       "{}"
      ]
     },
     "execution_count": 22,
     "metadata": {},
     "output_type": "execute_result"
    }
   ],
   "source": [
    "# clear() method\n",
    "\n",
    "adict = {\n",
    "    \"mobile\" : \"vivo\",\n",
    "    \"FourG\" : True,\n",
    "    \"Price\" : 40000\n",
    "}\n",
    "\n",
    "adict.clear()\n",
    "adict"
   ]
  },
  {
   "cell_type": "code",
   "execution_count": 4,
   "id": "2ad5368e",
   "metadata": {},
   "outputs": [
    {
     "data": {
      "text/plain": [
       "{'Samosa': 30, 'Raita': 20, 'Salad': 50, 'Chiken Rools': 30}"
      ]
     },
     "execution_count": 4,
     "metadata": {},
     "output_type": "execute_result"
    }
   ],
   "source": [
    "# Food and their prices\n",
    "\n",
    "food1 = {\"Samosa\":30, \"Raita\":20, \"Salad\":50, \"Chiken Rools\":30}\n",
    "food1"
   ]
  },
  {
   "cell_type": "code",
   "execution_count": 5,
   "id": "86369e22",
   "metadata": {},
   "outputs": [
    {
     "data": {
      "text/plain": [
       "dict"
      ]
     },
     "execution_count": 5,
     "metadata": {},
     "output_type": "execute_result"
    }
   ],
   "source": [
    "type(food1)"
   ]
  },
  {
   "cell_type": "code",
   "execution_count": 6,
   "id": "be8569ec",
   "metadata": {},
   "outputs": [
    {
     "data": {
      "text/plain": [
       "dict_keys(['Samosa', 'Raita', 'Salad', 'Chiken Rools'])"
      ]
     },
     "execution_count": 6,
     "metadata": {},
     "output_type": "execute_result"
    }
   ],
   "source": [
    "# extract data\n",
    "\n",
    "keys1 = food1.keys()\n",
    "keys1"
   ]
  },
  {
   "cell_type": "code",
   "execution_count": 7,
   "id": "e4e7f056",
   "metadata": {},
   "outputs": [
    {
     "data": {
      "text/plain": [
       "dict_values([30, 20, 50, 30])"
      ]
     },
     "execution_count": 7,
     "metadata": {},
     "output_type": "execute_result"
    }
   ],
   "source": [
    "values1 = food1.values()\n",
    "values1"
   ]
  },
  {
   "cell_type": "code",
   "execution_count": 8,
   "id": "d679072b",
   "metadata": {},
   "outputs": [
    {
     "data": {
      "text/plain": [
       "{'Samosa': 30, 'Raita': 20, 'Salad': 50, 'Chiken Rools': 30, 'Tikki': 30}"
      ]
     },
     "execution_count": 8,
     "metadata": {},
     "output_type": "execute_result"
    }
   ],
   "source": [
    "# adding new element\n",
    "\n",
    "food1[\"Tikki\"]=30\n",
    "food1"
   ]
  },
  {
   "cell_type": "code",
   "execution_count": 10,
   "id": "43b89185",
   "metadata": {},
   "outputs": [
    {
     "data": {
      "text/plain": [
       "{'Samosa': 30, 'Raita': 20, 'Salad': 50, 'Chiken Rools': 30, 'Tikki': 15}"
      ]
     },
     "execution_count": 10,
     "metadata": {},
     "output_type": "execute_result"
    }
   ],
   "source": [
    "# update/modify the values\n",
    "\n",
    "food1[\"Tikki\"]=15\n",
    "food1"
   ]
  },
  {
   "cell_type": "code",
   "execution_count": 11,
   "id": "03d831ba",
   "metadata": {},
   "outputs": [
    {
     "data": {
      "text/plain": [
       "{'Dates': 50, 'Chocolates': 200, 'Swayyan': 1000}"
      ]
     },
     "execution_count": 11,
     "metadata": {},
     "output_type": "execute_result"
    }
   ],
   "source": [
    "food2 = {\"Dates\":50, \"Chocolates\":200, \"Swayyan\":1000}\n",
    "food2"
   ]
  },
  {
   "cell_type": "code",
   "execution_count": 12,
   "id": "55ab4a64",
   "metadata": {},
   "outputs": [],
   "source": [
    "food1.update(food2)"
   ]
  },
  {
   "cell_type": "code",
   "execution_count": 13,
   "id": "850247d8",
   "metadata": {
    "scrolled": true
   },
   "outputs": [
    {
     "data": {
      "text/plain": [
       "{'Samosa': 30,\n",
       " 'Raita': 20,\n",
       " 'Salad': 50,\n",
       " 'Chiken Rools': 30,\n",
       " 'Tikki': 15,\n",
       " 'Dates': 50,\n",
       " 'Chocolates': 200,\n",
       " 'Swayyan': 1000}"
      ]
     },
     "execution_count": 13,
     "metadata": {},
     "output_type": "execute_result"
    }
   ],
   "source": [
    "food1"
   ]
  },
  {
   "cell_type": "code",
   "execution_count": 24,
   "id": "55f93761",
   "metadata": {},
   "outputs": [
    {
     "data": {
      "text/plain": [
       "'Mustang'"
      ]
     },
     "execution_count": 24,
     "metadata": {},
     "output_type": "execute_result"
    }
   ],
   "source": [
    "# to access elements\n",
    "\n",
    "thisdict = {\n",
    "  \"brand\": \"Ford\",\n",
    "  \"model\": \"Mustang\",\n",
    "  \"year\": 1964\n",
    "}\n",
    "\n",
    "x = thisdict[\"model\"] \n",
    "x"
   ]
  },
  {
   "cell_type": "code",
   "execution_count": 25,
   "id": "25d0a869",
   "metadata": {},
   "outputs": [
    {
     "data": {
      "text/plain": [
       "'Mustang'"
      ]
     },
     "execution_count": 25,
     "metadata": {},
     "output_type": "execute_result"
    }
   ],
   "source": [
    "# get() method to access elements\n",
    "\n",
    "thisdict = {\n",
    "  \"brand\": \"Ford\",\n",
    "  \"model\": \"Mustang\",\n",
    "  \"year\": 1964\n",
    "}\n",
    "\n",
    "x = thisdict.get(\"model\")\n",
    "x"
   ]
  },
  {
   "cell_type": "code",
   "execution_count": 27,
   "id": "6b4cb059",
   "metadata": {},
   "outputs": [
    {
     "data": {
      "text/plain": [
       "dict_items([('brand', 'Ford'), ('model', 'Mustang'), ('year', 1960), ('color', 'Red')])"
      ]
     },
     "execution_count": 27,
     "metadata": {},
     "output_type": "execute_result"
    }
   ],
   "source": [
    "# The items() method will return each item in a dictionary, as tuples in a list.\n",
    "\n",
    "car = {\n",
    "    \"brand\" : \"Ford\",\n",
    "    \"model\" : \"Mustang\",\n",
    "    \"year\" : 1960\n",
    "}\n",
    "\n",
    "x = car.items()\n",
    "x\n",
    "\n",
    "car[\"color\"] = \"Red\"\n",
    "x"
   ]
  },
  {
   "cell_type": "code",
   "execution_count": 28,
   "id": "44f989b6",
   "metadata": {},
   "outputs": [
    {
     "name": "stdout",
     "output_type": "stream",
     "text": [
      "WoW\n"
     ]
    }
   ],
   "source": [
    "# To determine if a specified key is present in a dictionary use the in keyword:\n",
    "\n",
    "car = {\n",
    "    \"brand\" : \"Ford\",\n",
    "    \"model\" : \"Mustang\",\n",
    "    \"year\" : 1960\n",
    "}\n",
    "\n",
    "if \"model\" in car:\n",
    "    print(\"WoW\")"
   ]
  },
  {
   "cell_type": "code",
   "execution_count": 30,
   "id": "19e992d8",
   "metadata": {},
   "outputs": [
    {
     "data": {
      "text/plain": [
       "{'brand': 'Ford', 'model': 'Mustang', 'year': 1960}"
      ]
     },
     "execution_count": 30,
     "metadata": {},
     "output_type": "execute_result"
    }
   ],
   "source": [
    "# The pop() method removes the item with the specified key name:\n",
    "\n",
    "car = {\n",
    "    \"brand\" : \"Ford\",\n",
    "    \"model\" : \"Mustang\",\n",
    "    \"year\" : 1960,\n",
    "    \"buyer\" : \"MS\"\n",
    "}\n",
    "\n",
    "car\n",
    "car.pop(\"buyer\")\n",
    "car"
   ]
  },
  {
   "cell_type": "code",
   "execution_count": 31,
   "id": "09b8efc9",
   "metadata": {},
   "outputs": [
    {
     "data": {
      "text/plain": [
       "{'brand': 'Ford', 'model': 'Mustang', 'year': 1960}"
      ]
     },
     "execution_count": 31,
     "metadata": {},
     "output_type": "execute_result"
    }
   ],
   "source": [
    "# The popitem() method removes the last inserted item\n",
    "\n",
    "car = {\n",
    "    \"brand\" : \"Ford\",\n",
    "    \"model\" : \"Mustang\",\n",
    "    \"year\" : 1960,\n",
    "    \"buyer\" : \"MS\"\n",
    "}\n",
    "\n",
    "car.popitem()\n",
    "car"
   ]
  },
  {
   "cell_type": "code",
   "execution_count": 36,
   "id": "ae2e3042",
   "metadata": {},
   "outputs": [
    {
     "data": {
      "text/plain": [
       "{'brand': 'Ford', 'model': 'Mustang', 'year': 1960}"
      ]
     },
     "execution_count": 36,
     "metadata": {},
     "output_type": "execute_result"
    }
   ],
   "source": [
    "# The del keyword removes the item with the specified key name:\n",
    "\n",
    "car = {\n",
    "    \"brand\" : \"Ford\",\n",
    "    \"model\" : \"Mustang\",\n",
    "    \"year\" : 1960,\n",
    "    \"buyer\" : \"MS\"\n",
    "}\n",
    "\n",
    "del car[\"buyer\"]\n",
    "car"
   ]
  },
  {
   "cell_type": "code",
   "execution_count": 41,
   "id": "f6f24cca",
   "metadata": {},
   "outputs": [],
   "source": [
    "# The del keyword can also delete the dictionary completely:\n",
    "\n",
    "carz = {\n",
    "    \"brand\" : \"Ford\",\n",
    "    \"model\" : \"Mustang\",\n",
    "    \"year\" : 1960,\n",
    "    \"buyer\" : \"MS\"\n",
    "}\n",
    "\n",
    "del carz"
   ]
  },
  {
   "cell_type": "code",
   "execution_count": 43,
   "id": "91a44a03",
   "metadata": {},
   "outputs": [
    {
     "name": "stdout",
     "output_type": "stream",
     "text": [
      "brand\n",
      "model\n",
      "year\n",
      "buyer\n"
     ]
    }
   ],
   "source": [
    "# You can loop through a dictionary by using a for loop.\n",
    "# When looping through a dictionary, the return value are the keys of the dictionary \n",
    "# but there are methods to return the values as well.\n",
    "\n",
    "car = {\n",
    "    \"brand\" : \"Ford\",\n",
    "    \"model\" : \"Mustang\",\n",
    "    \"year\" : 1960,\n",
    "    \"buyer\" : \"MS\"\n",
    "}\n",
    "\n",
    "# 1. print all keys one by one\n",
    "\n",
    "for x in car:\n",
    "    print (x)"
   ]
  },
  {
   "cell_type": "code",
   "execution_count": 45,
   "id": "a58ecff6",
   "metadata": {},
   "outputs": [
    {
     "name": "stdout",
     "output_type": "stream",
     "text": [
      "brand\n",
      "model\n",
      "year\n",
      "buyer\n",
      "Ford\n",
      "Mustang\n",
      "1960\n",
      "MS\n"
     ]
    }
   ],
   "source": [
    "\n",
    "\n",
    "car = {\n",
    "    \"brand\" : \"Ford\",\n",
    "    \"model\" : \"Mustang\",\n",
    "    \"year\" : 1960,\n",
    "    \"buyer\" : \"MS\"\n",
    "}\n",
    "\n",
    "\n",
    "# You can use the keys() method to return the keys of a dictionary:\n",
    "for x in car.keys():\n",
    "    print(x)\n",
    "    \n",
    "# You can also use the values() method to return values of a dictionary:    \n",
    "for y in car.values():\n",
    "    print(y)\n",
    "\n"
   ]
  },
  {
   "cell_type": "code",
   "execution_count": 46,
   "id": "d3487257",
   "metadata": {},
   "outputs": [
    {
     "name": "stdout",
     "output_type": "stream",
     "text": [
      "('brand', 'Ford')\n",
      "('model', 'Mustang')\n",
      "('year', 1960)\n",
      "('buyer', 'MS')\n"
     ]
    }
   ],
   "source": [
    "# Loop through both keys and values, by using the items() method:\n",
    "\n",
    "car = {\n",
    "    \"brand\" : \"Ford\",\n",
    "    \"model\" : \"Mustang\",\n",
    "    \"year\" : 1960,\n",
    "    \"buyer\" : \"MS\"\n",
    "}\n",
    "\n",
    "for x in car.items():\n",
    "    print(x)\n",
    "    "
   ]
  },
  {
   "cell_type": "code",
   "execution_count": 47,
   "id": "d7fead3d",
   "metadata": {},
   "outputs": [
    {
     "data": {
      "text/plain": [
       "{'brand': 'Ford', 'model': 'Mustang', 'year': 1964}"
      ]
     },
     "execution_count": 47,
     "metadata": {},
     "output_type": "execute_result"
    }
   ],
   "source": [
    "# You cannot copy a dictionary simply by typing dict2 = dict1, because: dict2 will only be a reference to dict1, \n",
    "# and changes made in dict1 will automatically also be made in dict2.\n",
    "\n",
    "# 1. built-in Dictionary method copy().\n",
    "\n",
    "thisdict = {\n",
    "  \"brand\": \"Ford\",\n",
    "  \"model\": \"Mustang\",\n",
    "  \"year\": 1964\n",
    "}\n",
    "\n",
    "mydict = thisdict.copy()\n",
    "mydict"
   ]
  },
  {
   "cell_type": "code",
   "execution_count": 49,
   "id": "b968a3d3",
   "metadata": {},
   "outputs": [
    {
     "data": {
      "text/plain": [
       "{'brand': 'Ford', 'model': 'Mustang', 'year': 1964}"
      ]
     },
     "execution_count": 49,
     "metadata": {},
     "output_type": "execute_result"
    }
   ],
   "source": [
    "# 2. built-in Dictionary method dict().\n",
    "\n",
    "thisdict = {\n",
    "  \"brand\": \"Ford\",\n",
    "  \"model\": \"Mustang\",\n",
    "  \"year\": 1964\n",
    "}\n",
    "\n",
    "newdict = dict(thisdict)\n",
    "newdict"
   ]
  },
  {
   "cell_type": "code",
   "execution_count": 53,
   "id": "436d5f81",
   "metadata": {},
   "outputs": [
    {
     "ename": "SyntaxError",
     "evalue": "invalid syntax (<ipython-input-53-186e19eb0c42>, line 4)",
     "output_type": "error",
     "traceback": [
      "\u001b[1;36m  File \u001b[1;32m\"<ipython-input-53-186e19eb0c42>\"\u001b[1;36m, line \u001b[1;32m4\u001b[0m\n\u001b[1;33m    \"father\" = {\u001b[0m\n\u001b[1;37m             ^\u001b[0m\n\u001b[1;31mSyntaxError\u001b[0m\u001b[1;31m:\u001b[0m invalid syntax\n"
     ]
    }
   ],
   "source": [
    "# A dictionary can contain dictionaries, this is called nested dictionaries.\n",
    "\n",
    "myfamily = {\n",
    "    \"father\" = {\n",
    "        \"name\" : \"Nizam\",\n",
    "        \"age\" : 65\n",
    "        },\n",
    "    \"mother\" = {\n",
    "        \"name\" : \"Ammi Jaan\",\n",
    "        \"age\" : 55\n",
    "        },\n",
    "    \"wife\" = {\n",
    "        \"name\" : \"Maria\",\n",
    "        \"age\" : 28\n",
    "        }\n",
    "    }\n",
    "\n",
    "myfamily"
   ]
  },
  {
   "cell_type": "code",
   "execution_count": 54,
   "id": "909fecb7",
   "metadata": {},
   "outputs": [],
   "source": [
    "myfamily = {\n",
    "  \"child1\" : {\n",
    "    \"name\" : \"Emil\",\n",
    "    \"year\" : 2004\n",
    "  },\n",
    "  \"child2\" : {\n",
    "    \"name\" : \"Tobias\",\n",
    "    \"year\" : 2007\n",
    "  },\n",
    "  \"child3\" : {\n",
    "    \"name\" : \"Linus\",\n",
    "    \"year\" : 2011\n",
    "  }\n",
    "} "
   ]
  },
  {
   "cell_type": "code",
   "execution_count": 55,
   "id": "36aabc2c",
   "metadata": {},
   "outputs": [
    {
     "name": "stdout",
     "output_type": "stream",
     "text": [
      "Mustang\n"
     ]
    }
   ],
   "source": [
    "# The setdefault() method returns the value of the item with the specified key.\n",
    "\n",
    "car = {\n",
    "  \"brand\": \"Ford\",\n",
    "  \"model\": \"Mustang\",\n",
    "  \"year\": 1964\n",
    "}\n",
    "\n",
    "x = car.setdefault(\"model\", \"Bronco\")\n",
    "\n",
    "print(x) "
   ]
  },
  {
   "cell_type": "markdown",
   "id": "6469d012",
   "metadata": {},
   "source": [
    "---"
   ]
  },
  {
   "cell_type": "markdown",
   "id": "77c0e579",
   "metadata": {},
   "source": [
    "## 4- Set\n",
    "\n",
    "- Unordered and unindexed\n",
    "- Immutable / can't be changed, but you can remove items and add new items.\n",
    "- Curly braces are used { }\n",
    "- No duplicates\n",
    "- Only numbers and strings are allowed, no booleans"
   ]
  },
  {
   "cell_type": "markdown",
   "id": "ae8c3e89",
   "metadata": {},
   "source": [
    "- Method \tDescription\n",
    "-\n",
    "- add()\tAdds an element to the set\n",
    "- clear()\tRemoves all the elements from the set\n",
    "- copy()\tReturns a copy of the set\n",
    "- difference()\tReturns a set containing the difference between two or more sets\n",
    "- difference_update()\tRemoves the items in this set that are also included in another, specified set\n",
    "- discard()\tRemove the specified item\n",
    "- intersection()\tReturns a set, that is the intersection of two other sets\n",
    "- intersection_update()\tRemoves the items in this set that are not present in other, specified set(s)\n",
    "- isdisjoint()\tReturns whether two sets have a intersection or not\n",
    "- issubset()\tReturns whether another set contains this set or not\n",
    "- issuperset()\tReturns whether this set contains another set or not\n",
    "- pop()\tRemoves an element from the set\n",
    "- remove()\tRemoves the specified element\n",
    "- symmetric_difference()\tReturns a set with the symmetric differences of two sets\n",
    "- symmetric_difference_update()\tinserts the symmetric differences from this set and another\n",
    "- union()\tReturn a set containing the union of sets\n",
    "- update()\tUpdate the set with the union of this set and others"
   ]
  },
  {
   "cell_type": "code",
   "execution_count": 20,
   "id": "4c66b87f",
   "metadata": {},
   "outputs": [
    {
     "data": {
      "text/plain": [
       "{1, 2.2, 5.2, 'Aaliyar', 'Codanics', 'Daharki'}"
      ]
     },
     "execution_count": 20,
     "metadata": {},
     "output_type": "execute_result"
    }
   ],
   "source": [
    "# boolean not allowed\n",
    "set1 = {1, 2.2, 5.2, \"Aaliyar\", \"Codanics\", \"Daharki\", True}\n",
    "set1"
   ]
  },
  {
   "cell_type": "code",
   "execution_count": 19,
   "id": "e927ecfa",
   "metadata": {},
   "outputs": [
    {
     "data": {
      "text/plain": [
       "{1, 2.2, 5.2, 'Aaliyar', 'Codanics', 'Daharki'}"
      ]
     },
     "execution_count": 19,
     "metadata": {},
     "output_type": "execute_result"
    }
   ],
   "source": [
    "# duplicates not allowed\n",
    "set1.add(\"Aaliyar\")\n",
    "set1"
   ]
  },
  {
   "cell_type": "code",
   "execution_count": 21,
   "id": "cb10c921",
   "metadata": {},
   "outputs": [
    {
     "data": {
      "text/plain": [
       "{2.2, 5.2, 'Aaliyar', 'Codanics', 'Daharki'}"
      ]
     },
     "execution_count": 21,
     "metadata": {},
     "output_type": "execute_result"
    }
   ],
   "source": [
    "# remove()\n",
    "set1.remove(True)\n",
    "set1"
   ]
  },
  {
   "cell_type": "code",
   "execution_count": 57,
   "id": "5b072af4",
   "metadata": {},
   "outputs": [
    {
     "data": {
      "text/plain": [
       "{123, 3.33, 'Hello'}"
      ]
     },
     "execution_count": 57,
     "metadata": {},
     "output_type": "execute_result"
    }
   ],
   "source": [
    "# constructor(), It is also possible to use the set() constructor to make a set.\n",
    "\n",
    "myset = set((\"Hello\", 123, 3.33))\n",
    "myset"
   ]
  },
  {
   "cell_type": "code",
   "execution_count": 58,
   "id": "eb50f4d9",
   "metadata": {},
   "outputs": [
    {
     "name": "stdout",
     "output_type": "stream",
     "text": [
      "Banana\n",
      "Cherry\n",
      "Apple\n"
     ]
    }
   ],
   "source": [
    "# You cannot access items in a set by referring to an index or a key.\n",
    "\n",
    "# But you can loop through the set items using a for loop, \n",
    "# or ask if a specified value is present in a set, by using the in keyword.\n",
    "\n",
    "myset = {\"Apple\", \"Banana\", \"Cherry\"}\n",
    "\n",
    "for x in myset:\n",
    "    print(x)"
   ]
  },
  {
   "cell_type": "code",
   "execution_count": 59,
   "id": "482ecac4",
   "metadata": {},
   "outputs": [
    {
     "data": {
      "text/plain": [
       "{'Apple', 'Banana', 'Cabbage', 'Carrot'}"
      ]
     },
     "execution_count": 59,
     "metadata": {},
     "output_type": "execute_result"
    }
   ],
   "source": [
    "# Use update() method, to add items from another set into the current set.\n",
    "\n",
    "myset = {\"Apple\", \"Banana\"}\n",
    "yourset = {\"Cabbage\", \"Carrot\"}\n",
    "\n",
    "myset.update(yourset)\n",
    "myset"
   ]
  },
  {
   "cell_type": "code",
   "execution_count": 61,
   "id": "28875ba9",
   "metadata": {},
   "outputs": [
    {
     "data": {
      "text/plain": [
       "{'Apple', 'Banana', 'Bhindi', 'Cabbage', 'Carrot'}"
      ]
     },
     "execution_count": 61,
     "metadata": {},
     "output_type": "execute_result"
    }
   ],
   "source": [
    "# The object in the update() method does not have to be a set, it can be any iterable object \n",
    "# (tuples, lists, dictionaries etc.).\n",
    "\n",
    "myset = {\"Apple\", \"Banana\"}\n",
    "yourlist = [\"Cabbage\", \"Carrot\", \"Bhindi\"]\n",
    "\n",
    "myset.update(yourlist)\n",
    "myset\n"
   ]
  },
  {
   "cell_type": "code",
   "execution_count": 65,
   "id": "5fe47481",
   "metadata": {},
   "outputs": [
    {
     "data": {
      "text/plain": [
       "{'apple', 'cherry'}"
      ]
     },
     "execution_count": 65,
     "metadata": {},
     "output_type": "execute_result"
    }
   ],
   "source": [
    "# Remove \"banana\" by using the remove() method:\n",
    "# If the item to remove does not exist, remove() will raise an error.\n",
    "# If the item to remove does not exist, discard() will NOT raise an error.\n",
    "\n",
    "thisset = {\"apple\", \"banana\", \"cherry\"}\n",
    "\n",
    "thisset.remove(\"banana\")\n",
    "thisset.discard(\"orange\")\n",
    "thisset"
   ]
  },
  {
   "cell_type": "code",
   "execution_count": 71,
   "id": "07abd2b6",
   "metadata": {},
   "outputs": [
    {
     "data": {
      "text/plain": [
       "'cherry'"
      ]
     },
     "execution_count": 71,
     "metadata": {},
     "output_type": "execute_result"
    }
   ],
   "source": [
    "# You can also use the pop() method to remove an item, but this method will remove the last item. \n",
    "# Remember that sets are unordered, so you will not know what item that gets removed.\n",
    "\n",
    "myset1 = {\"apple\", \"banana\", \"cherry\"}\n",
    "\n",
    "x = myset.pop()\n",
    "x"
   ]
  },
  {
   "cell_type": "code",
   "execution_count": 72,
   "id": "8b4fd93a",
   "metadata": {},
   "outputs": [
    {
     "name": "stdout",
     "output_type": "stream",
     "text": [
      "apple\n",
      "banana\n",
      "cherry\n"
     ]
    }
   ],
   "source": [
    "# You can loop through the set items by using a for loop:\n",
    "\n",
    "myset2 = {\"apple\", \"banana\", \"cherry\"}\n",
    "\n",
    "for x in myset2:\n",
    "    print(x)"
   ]
  },
  {
   "cell_type": "code",
   "execution_count": 75,
   "id": "1bbfcbbe",
   "metadata": {},
   "outputs": [
    {
     "data": {
      "text/plain": [
       "{2021, 21, 3, 'Aaliyar', 'Ahmed'}"
      ]
     },
     "execution_count": 75,
     "metadata": {},
     "output_type": "execute_result"
    }
   ],
   "source": [
    "# The union() method returns a new set with all items from both sets:\n",
    "\n",
    "set1 = {\"Aaliyar\", \"Ahmed\"}\n",
    "set2 = {21, 3, 2021}\n",
    "\n",
    "set3 = set1.union(set2)\n",
    "set3"
   ]
  },
  {
   "cell_type": "code",
   "execution_count": 76,
   "id": "1921f01c",
   "metadata": {},
   "outputs": [
    {
     "data": {
      "text/plain": [
       "{2021, 21, 3, 'Aaliyar', 'Ahmed'}"
      ]
     },
     "execution_count": 76,
     "metadata": {},
     "output_type": "execute_result"
    }
   ],
   "source": [
    "# The update() method inserts the items in set2 into set1:\n",
    "\n",
    "set1 = {\"Aaliyar\", \"Ahmed\"}\n",
    "set2 = {21, 3, 2021}\n",
    "\n",
    "set1.update(set2)\n",
    "set1"
   ]
  },
  {
   "cell_type": "markdown",
   "id": "fc9878d0",
   "metadata": {},
   "source": [
    "- Note: Both union() and update() will exclude any duplicate items."
   ]
  },
  {
   "cell_type": "code",
   "execution_count": 77,
   "id": "25cd2fab",
   "metadata": {},
   "outputs": [
    {
     "data": {
      "text/plain": [
       "{'apple'}"
      ]
     },
     "execution_count": 77,
     "metadata": {},
     "output_type": "execute_result"
    }
   ],
   "source": [
    "# 1. The intersection_update() method will keep only the items that are present in both sets.\n",
    "\n",
    "x = {\"apple\", \"banana\", \"cherry\"}\n",
    "y = {\"google\", \"microsoft\", \"apple\"}\n",
    "\n",
    "x.intersection_update(y)\n",
    "x"
   ]
  },
  {
   "cell_type": "code",
   "execution_count": 78,
   "id": "8441c640",
   "metadata": {},
   "outputs": [
    {
     "data": {
      "text/plain": [
       "{'apple'}"
      ]
     },
     "execution_count": 78,
     "metadata": {},
     "output_type": "execute_result"
    }
   ],
   "source": [
    "# 2. The intersection() method will return a new set, that only contains the items that are present in both sets.\n",
    "\n",
    "x = {\"apple\", \"banana\", \"cherry\"}\n",
    "y = {\"google\", \"microsoft\", \"apple\"}\n",
    "\n",
    "z = x.intersection(y)\n",
    "z\n"
   ]
  },
  {
   "cell_type": "code",
   "execution_count": 79,
   "id": "279290e5",
   "metadata": {},
   "outputs": [
    {
     "data": {
      "text/plain": [
       "{'banana', 'cherry', 'google', 'microsoft'}"
      ]
     },
     "execution_count": 79,
     "metadata": {},
     "output_type": "execute_result"
    }
   ],
   "source": [
    "# The symmetric_difference_update() method will keep only the elements that are NOT present in both sets.\n",
    "\n",
    "x = {\"apple\", \"banana\", \"cherry\"}\n",
    "y = {\"google\", \"microsoft\", \"apple\"}\n",
    "\n",
    "x.symmetric_difference_update(y)\n",
    "x"
   ]
  },
  {
   "cell_type": "code",
   "execution_count": 80,
   "id": "ae0e8bb1",
   "metadata": {},
   "outputs": [
    {
     "data": {
      "text/plain": [
       "{'banana', 'cherry', 'google', 'microsoft'}"
      ]
     },
     "execution_count": 80,
     "metadata": {},
     "output_type": "execute_result"
    }
   ],
   "source": [
    "# symmetric_difference() method will return a new set, that contains only elements that are NOT present in both sets.\n",
    "\n",
    "x = {\"apple\", \"banana\", \"cherry\"}\n",
    "y = {\"google\", \"microsoft\", \"apple\"}\n",
    "\n",
    "z = x.symmetric_difference(y)\n",
    "z"
   ]
  },
  {
   "cell_type": "code",
   "execution_count": 81,
   "id": "b4da39ca",
   "metadata": {},
   "outputs": [
    {
     "data": {
      "text/plain": [
       "{'banana', 'cherry'}"
      ]
     },
     "execution_count": 81,
     "metadata": {},
     "output_type": "execute_result"
    }
   ],
   "source": [
    "# The difference() method returns a set that contains the difference between two sets.\n",
    "# Meaning: The returned set contains items that exist only in the first set, and not in both sets.\n",
    "\n",
    "x = {\"apple\", \"banana\", \"cherry\"}\n",
    "y = {\"google\", \"microsoft\", \"apple\"}\n",
    "\n",
    "z = x.difference(y)\n",
    "z "
   ]
  },
  {
   "cell_type": "code",
   "execution_count": 82,
   "id": "bda9a4ac",
   "metadata": {},
   "outputs": [
    {
     "data": {
      "text/plain": [
       "{'banana', 'cherry'}"
      ]
     },
     "execution_count": 82,
     "metadata": {},
     "output_type": "execute_result"
    }
   ],
   "source": [
    "# The difference_update() method removes the items that exist in both sets.\n",
    "# The difference_update() method is different from the difference() method, \n",
    "# because the difference() method returns a new set, without the unwanted items, \n",
    "# and the difference_update() method removes the unwanted items from the original set.\n",
    "\n",
    "x = {\"apple\", \"banana\", \"cherry\"}\n",
    "y = {\"google\", \"microsoft\", \"apple\"}\n",
    "\n",
    "x.difference_update(y)\n",
    "x"
   ]
  },
  {
   "cell_type": "code",
   "execution_count": 85,
   "id": "65e17e68",
   "metadata": {},
   "outputs": [
    {
     "data": {
      "text/plain": [
       "True"
      ]
     },
     "execution_count": 85,
     "metadata": {},
     "output_type": "execute_result"
    }
   ],
   "source": [
    "# The issuperset() method returns True if all items in the specified set exists in the original set, \n",
    "# otherwise it retuns False.\n",
    "\n",
    "x = {\"f\", \"e\", \"d\", \"c\", \"b\", \"a\"}\n",
    "y = {\"a\", \"b\", \"c\"}\n",
    "\n",
    "z = x.issuperset(y)\n",
    "z"
   ]
  },
  {
   "cell_type": "code",
   "execution_count": 86,
   "id": "847ec191",
   "metadata": {},
   "outputs": [
    {
     "data": {
      "text/plain": [
       "True"
      ]
     },
     "execution_count": 86,
     "metadata": {},
     "output_type": "execute_result"
    }
   ],
   "source": [
    "#The issubset() method returns True if all items in the set exists in the specified set, otherwise it retuns False.\n",
    "\n",
    "x = {\"f\", \"e\", \"d\", \"c\", \"b\", \"a\"}\n",
    "y = {\"a\", \"b\", \"c\"}\n",
    "\n",
    "z = y.issubset(x)\n",
    "z"
   ]
  },
  {
   "cell_type": "code",
   "execution_count": 89,
   "id": "cc03076d",
   "metadata": {},
   "outputs": [
    {
     "data": {
      "text/plain": [
       "True"
      ]
     },
     "execution_count": 89,
     "metadata": {},
     "output_type": "execute_result"
    }
   ],
   "source": [
    "# The isdisjoint() method returns True if none of the items are present in both sets, otherwise it returns False.\n",
    "\n",
    "x = {\"f\", \"e\", \"d\", \"c\", \"b\", \"a\"}\n",
    "y = {\"l\", \"m\", \"n\"}\n",
    "\n",
    "z = x.isdisjoint(y)\n",
    "z\n"
   ]
  },
  {
   "cell_type": "markdown",
   "id": "0aedaecb",
   "metadata": {},
   "source": [
    "-----"
   ]
  }
 ],
 "metadata": {
  "kernelspec": {
   "display_name": "Python 3",
   "language": "python",
   "name": "python3"
  },
  "language_info": {
   "codemirror_mode": {
    "name": "ipython",
    "version": 3
   },
   "file_extension": ".py",
   "mimetype": "text/x-python",
   "name": "python",
   "nbconvert_exporter": "python",
   "pygments_lexer": "ipython3",
   "version": "3.8.8"
  }
 },
 "nbformat": 4,
 "nbformat_minor": 5
}
